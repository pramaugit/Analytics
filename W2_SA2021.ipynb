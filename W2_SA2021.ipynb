{
  "nbformat": 4,
  "nbformat_minor": 0,
  "metadata": {
    "colab": {
      "name": "W2_SA2021.ipynb",
      "provenance": [],
      "collapsed_sections": [],
      "include_colab_link": true
    },
    "kernelspec": {
      "display_name": "Python 3",
      "language": "python",
      "name": "python3"
    },
    "language_info": {
      "codemirror_mode": {
        "name": "ipython",
        "version": 3
      },
      "file_extension": ".py",
      "mimetype": "text/x-python",
      "name": "python",
      "nbconvert_exporter": "python",
      "pygments_lexer": "ipython3",
      "version": "3.7.6"
    }
  },
  "cells": [
    {
      "cell_type": "markdown",
      "metadata": {
        "id": "view-in-github",
        "colab_type": "text"
      },
      "source": [
        "<a href=\"https://colab.research.google.com/github/pramaugit/caciitg2021/blob/main/W2_SA2021.ipynb\" target=\"_parent\"><img src=\"https://colab.research.google.com/assets/colab-badge.svg\" alt=\"Open In Colab\"/></a>"
      ]
    },
    {
      "cell_type": "markdown",
      "metadata": {
        "id": "M0YYLw6N_KCE"
      },
      "source": [
        "# Summer Analytics 2021\n",
        "# WEEK-2 Graded Assignment: Linear Regression\n",
        "\n",
        "## Introduction\n",
        "\n",
        "In this exercise, you will implement linear regression and get to see it work on data. Before starting on this programming exercise, we strongly recommend watching the video lectures and completing the review questions for the associated topics.\n",
        "\n",
        "All the information you need for solving this assignment is in this notebook, and all the code you will be implementing will take place within this notebook..\n",
        "\n",
        "Before we begin with the exercises, we need to import all libraries required for this programming exercise. Throughout the course, we will be using [`numpy`](http://www.numpy.org/) for all arrays and matrix operations, and [`matplotlib`](https://matplotlib.org/) for plotting.\n"
      ]
    },
    {
      "cell_type": "code",
      "metadata": {
        "id": "Rqms0xsm_KCF"
      },
      "source": [
        "# used for manipulating directory paths\n",
        "import os\n",
        "\n",
        "# Scientific and vector computation for python\n",
        "import numpy as np\n",
        "\n",
        "# Plotting library\n",
        "from matplotlib import pyplot\n",
        "from mpl_toolkits.mplot3d import Axes3D  # needed to plot 3-D surfaces\n",
        "\n",
        "# tells matplotlib to embed plots within the notebook\n",
        "%matplotlib inline"
      ],
      "execution_count": 1,
      "outputs": []
    },
    {
      "cell_type": "markdown",
      "metadata": {
        "id": "rbzq6tZr_KCJ"
      },
      "source": [
        "Complete the function to return an identity matrix of size 5."
      ]
    },
    {
      "cell_type": "code",
      "metadata": {
        "id": "8EfxnhE2_KCJ"
      },
      "source": [
        "def warmUpExercise():\n",
        "    \"\"\"\n",
        "    Example function in Python which computes the identity matrix.\n",
        "    Do not hard code kindly use numpy\n",
        "    Returns\n",
        "    -------\n",
        "    A : array_like\n",
        "        The 5x5 identity matrix.\n",
        "    \n",
        "    Instructions\n",
        "    ------------\n",
        "    Return the 5x5 identity matrix.\n",
        "    \"\"\"    \n",
        "    # ======== YOUR CODE HERE ======\n",
        "    A = np.eye(5)\n",
        "    # ==============================\n",
        "    return A"
      ],
      "execution_count": 2,
      "outputs": []
    },
    {
      "cell_type": "code",
      "metadata": {
        "id": "gkqOdcLn_KCM",
        "colab": {
          "base_uri": "https://localhost:8080/"
        },
        "outputId": "8e5bce8d-2b16-46f3-ed54-b7d928306ce4"
      },
      "source": [
        "warmUpExercise()"
      ],
      "execution_count": 3,
      "outputs": [
        {
          "output_type": "execute_result",
          "data": {
            "text/plain": [
              "array([[1., 0., 0., 0., 0.],\n",
              "       [0., 1., 0., 0., 0.],\n",
              "       [0., 0., 1., 0., 0.],\n",
              "       [0., 0., 0., 1., 0.],\n",
              "       [0., 0., 0., 0., 1.]])"
            ]
          },
          "metadata": {
            "tags": []
          },
          "execution_count": 3
        }
      ]
    },
    {
      "cell_type": "markdown",
      "metadata": {
        "id": "jDl4Msj9_KCM"
      },
      "source": [
        "Your output should match this\n",
        "\n",
        "[array([[ 1.,  0.,  0.,  0.,  0.],<br>\n",
        "       [ 0.,  1.,  0.,  0.,  0.],<br>\n",
        "       [ 0.,  0.,  1.,  0.,  0.],<br>\n",
        "       [ 0.,  0.,  0.,  1.,  0.],<br>\n",
        "       [ 0.,  0.,  0.,  0.,  1.]]))]"
      ]
    },
    {
      "cell_type": "markdown",
      "metadata": {
        "id": "cidgOF0__KCP"
      },
      "source": [
        "## 2 Linear regression with one variable\n",
        "\n",
        "Now you will implement linear regression with one variable to predict profits for a food truck. Suppose you are the CEO of a restaurant franchise and are considering different cities for opening a new outlet. The chain already has trucks in various cities and you have data for profits and populations from the cities. You would like to use this data to help you select which city to expand to next. \n",
        "\n",
        "The file `ex1data1.txt` contains the dataset for our linear regression problem. The first column is the population of a city (in 10,000s) and the second column is the profit of a food truck in that city (in $10,000s). A negative value for profit indicates a loss. \n",
        "\n",
        "We provide you with the code needed to load this data. The dataset is loaded from the data file into the variables `x` and `y`:"
      ]
    },
    {
      "cell_type": "code",
      "metadata": {
        "id": "lLkbuDrM_KCP",
        "colab": {
          "base_uri": "https://localhost:8080/"
        },
        "outputId": "9b143b88-b6f4-4db9-9185-906d3d01c1d2"
      },
      "source": [
        "# Read comma separated data\n",
        "data = np.loadtxt(os.path.join('https://raw.githubusercontent.com/pramaugit/caciitg2021/main/SA2021_W2_Profit.txt'), delimiter=',')\n",
        "X, y = data[:, 0], data[:, 1]\n",
        "\n",
        "m = y.size  # number of training examples\n",
        "print(m)"
      ],
      "execution_count": 4,
      "outputs": [
        {
          "output_type": "stream",
          "text": [
            "97\n"
          ],
          "name": "stdout"
        }
      ]
    },
    {
      "cell_type": "code",
      "metadata": {
        "colab": {
          "base_uri": "https://localhost:8080/"
        },
        "id": "JA5OvhPiKpiM",
        "outputId": "1197a7a1-b421-4675-d138-150f99019ca5"
      },
      "source": [
        "print(X.shape)\n",
        "print(y.shape)"
      ],
      "execution_count": 5,
      "outputs": [
        {
          "output_type": "stream",
          "text": [
            "(97,)\n",
            "(97,)\n"
          ],
          "name": "stdout"
        }
      ]
    },
    {
      "cell_type": "markdown",
      "metadata": {
        "id": "06sqjf8D_KCS"
      },
      "source": [
        "### 2.1 Plotting the Data\n",
        "\n",
        "Before starting on any task, it is often useful to understand the data by visualizing it. For this dataset, you can use a scatter plot to visualize the data, since it has only two properties to plot (profit and population). Many other problems that you will encounter in real life are multi-dimensional and cannot be plotted on a 2-d plot. There are many plotting libraries in python (see this [blog post](https://blog.modeanalytics.com/python-data-visualization-libraries/) for a good summary of the most popular ones). \n",
        "\n",
        "In this course, we will be exclusively using `matplotlib` to do all our plotting. `matplotlib` is one of the most popular scientific plotting libraries in python and has extensive tools and functions to make beautiful plots. `pyplot` is a module within `matplotlib` which provides a simplified interface to `matplotlib`'s most common plotting tasks, mimicking MATLAB's plotting interface.\n",
        "\n",
        "<div class=\"alert alert-block alert-warning\">\n",
        "You might have noticed that we have imported the `pyplot` module at the beginning of this exercise using the command `from matplotlib import pyplot`. This is rather uncommon, and if you look at python code elsewhere or in the `matplotlib` tutorials, you will see that the module is named `plt`. This is used by module renaming by using the import command `import matplotlib.pyplot as plt`. We will not using the short name of `pyplot` module in this class exercises, but you should be aware of this deviation from norm.\n",
        "</div>\n",
        "\n",
        "\n",
        "In the following part, your first job is to complete the `plotData` function below. Modify the function and fill in the following code:\n",
        "\n",
        "```python\n",
        "    pyplot.plot(x, y, 'ro', ms=10, mec='k')\n",
        "    pyplot.ylabel('Profit in $10,000')\n",
        "    pyplot.xlabel('Population of City in 10,000s')\n",
        "```"
      ]
    },
    {
      "cell_type": "code",
      "metadata": {
        "id": "mtBRxxhF_KCS",
        "colab": {
          "base_uri": "https://localhost:8080/",
          "height": 297
        },
        "outputId": "60343d43-1b1a-4010-f236-6237c8c9ecef"
      },
      "source": [
        "def plotData(x, y):\n",
        "    \"\"\"\n",
        "    Plots the data points x and y into a new figure. Plots the data \n",
        "    points and gives the figure axes labels of population and profit.\n",
        "    \n",
        "    Parameters\n",
        "    ----------\n",
        "    x : array_like\n",
        "        Data point values for x-axis.\n",
        "\n",
        "    y : array_like\n",
        "        Data point values for y-axis. Note x and y should have the same size.\n",
        "    \n",
        "    Instructions\n",
        "    ------------\n",
        "    Plot the training data into a figure using the \"figure\" and \"plot\"\n",
        "    functions. Set the axes labels using the \"xlabel\" and \"ylabel\" functions.\n",
        "    Assume the population and revenue data have been passed in as the x\n",
        "    and y arguments of this function.    \n",
        "    \n",
        "    Hint\n",
        "    ----\n",
        "    You can use the 'ro' option with plot to have the markers\n",
        "    appear as red circles. Furthermore, you can make the markers larger by\n",
        "    using plot(..., 'ro', ms=10), where `ms` refers to marker size. You \n",
        "    can also set the marker edge color using the `mec` property.\n",
        "    \"\"\"\n",
        "    fig = pyplot.figure()  # open a new figure\n",
        "    \n",
        "    # ====================== YOUR CODE HERE ======================= \n",
        "    \n",
        "pyplot.plot(X, y, 'ro', ms=10, mec='k')\n",
        "pyplot.ylabel('Profit in $10,000')\n",
        "pyplot.xlabel('Population of City in 10,000s')\n",
        "\n",
        "\n",
        "\n",
        "\n",
        "\n",
        "    \n",
        "    # =============================================================\n"
      ],
      "execution_count": 6,
      "outputs": [
        {
          "output_type": "execute_result",
          "data": {
            "text/plain": [
              "Text(0.5, 0, 'Population of City in 10,000s')"
            ]
          },
          "metadata": {
            "tags": []
          },
          "execution_count": 6
        },
        {
          "output_type": "display_data",
          "data": {
            "image/png": "[encoded data removed]",
            "text/plain": [
              "<Figure size 432x288 with 1 Axes>"
            ]
          },
          "metadata": {
            "tags": [],
            "needs_background": "light"
          }
        }
      ]
    },
    {
      "cell_type": "markdown",
      "metadata": {
        "id": "9gBFxSv4_KCV"
      },
      "source": [
        "Now run the defined function with the loaded data to visualize the data. \n",
        "\n",
        "![](Figures/dataset1.png)\n",
        "\n",
        "Execute the next cell to visualize the data."
      ]
    },
    {
      "cell_type": "code",
      "metadata": {
        "id": "y4HqF5zT_KCV"
      },
      "source": [
        "pyplot.show()"
      ],
      "execution_count": 7,
      "outputs": []
    },
    {
      "cell_type": "markdown",
      "metadata": {
        "id": "JNdFstlL_KCa"
      },
      "source": [
        "To quickly learn more about the `matplotlib` plot function and what arguments you can provide to it, you can type `?pyplot.plot` in a cell within the jupyter notebook. This opens a separate page showing the documentation for the requested function. You can also search online for plotting documentation. \n",
        "\n",
        "To set the markers to red circles, we used the option `'or'` within the `plot` function."
      ]
    },
    {
      "cell_type": "code",
      "metadata": {
        "id": "vNUkRFE-_KCa"
      },
      "source": [
        "# IF NEEDED YOU CAN UNCOMMENT THE BELOW LINE AND RUN TO LEARN MORE ABOUT THE FUNCTION\n",
        "?pyplot.plot"
      ],
      "execution_count": 8,
      "outputs": []
    },
    {
      "cell_type": "markdown",
      "metadata": {
        "id": "kjXBs0ID_KCc"
      },
      "source": [
        "<a id=\"section2\"></a>\n",
        "### 2.2 Gradient Descent\n",
        "\n",
        "In this part, you will fit the linear regression parameters $\\theta$ to our dataset using gradient descent.\n",
        "\n",
        "#### 2.2.1 Update Equations\n",
        "\n",
        "The objective of linear regression is to minimize the cost function\n",
        "\n",
        "$$ J(\\theta) = \\frac{1}{2m} \\sum_{i=1}^m \\left( h_{\\theta}(x^{(i)}) - y^{(i)}\\right)^2$$\n",
        "\n",
        "where the hypothesis $h_\\theta(x)$ is given by the linear model\n",
        "$$ h_\\theta(x) = \\theta^Tx = \\theta_0 + \\theta_1 x_1$$\n",
        "\n",
        "Recall that the parameters of your model are the $\\theta_j$ values. These are\n",
        "the values you will adjust to minimize cost $J(\\theta)$. One way to do this is to\n",
        "use the batch gradient descent algorithm. In batch gradient descent, each\n",
        "iteration performs the update\n",
        "\n",
        "$$ \\theta_j = \\theta_j - \\alpha \\frac{1}{m} \\sum_{i=1}^m \\left( h_\\theta(x^{(i)}) - y^{(i)}\\right)x_j^{(i)} \\qquad \\text{simultaneously update } \\theta_j \\text{ for all } j$$\n",
        "\n",
        "With each step of gradient descent, your parameters $\\theta_j$ come closer to the optimal values that will achieve the lowest cost J($\\theta$).\n",
        "\n",
        "<div class=\"alert alert-block alert-warning\">\n",
        "**Implementation Note:** We store each example as a row in the the $X$ matrix in Python `numpy`. To take into account the intercept term ($\\theta_0$), we add an additional first column to $X$ and set it to all ones. This allows us to treat $\\theta_0$ as simply another 'feature'.\n",
        "</div>\n",
        "\n",
        "\n",
        "#### 2.2.2 Implementation\n",
        "\n",
        "We have already set up the data for linear regression. In the following cell, we add another dimension to our data to accommodate the $\\theta_0$ intercept term. Do NOT execute this cell more than once."
      ]
    },
    {
      "cell_type": "code",
      "metadata": {
        "id": "p9n9P0wW_KCd"
      },
      "source": [
        "# Add a column of ones to X. The numpy function stack joins arrays along a given axis. \n",
        "# The first axis (axis=0) refers to rows (training examples) \n",
        "# and second axis (axis=1) refers to columns (features).\n",
        "X = np.stack([np.ones(m), X], axis=1)"
      ],
      "execution_count": 9,
      "outputs": []
    },
    {
      "cell_type": "code",
      "metadata": {
        "colab": {
          "base_uri": "https://localhost:8080/"
        },
        "id": "RssjNGdo38-t",
        "outputId": "a1facd3c-cdb1-4d59-b823-2bc52e4ff070"
      },
      "source": [
        "X"
      ],
      "execution_count": 10,
      "outputs": [
        {
          "output_type": "execute_result",
          "data": {
            "text/plain": [
              "array([[ 1.    ,  6.1101],\n",
              "       [ 1.    ,  5.5277],\n",
              "       [ 1.    ,  8.5186],\n",
              "       [ 1.    ,  7.0032],\n",
              "       [ 1.    ,  5.8598],\n",
              "       [ 1.    ,  8.3829],\n",
              "       [ 1.    ,  7.4764],\n",
              "       [ 1.    ,  8.5781],\n",
              "       [ 1.    ,  6.4862],\n",
              "       [ 1.    ,  5.0546],\n",
              "       [ 1.    ,  5.7107],\n",
              "       [ 1.    , 14.164 ],\n",
              "       [ 1.    ,  5.734 ],\n",
              "       [ 1.    ,  8.4084],\n",
              "       [ 1.    ,  5.6407],\n",
              "       [ 1.    ,  5.3794],\n",
              "       [ 1.    ,  6.3654],\n",
              "       [ 1.    ,  5.1301],\n",
              "       [ 1.    ,  6.4296],\n",
              "       [ 1.    ,  7.0708],\n",
              "       [ 1.    ,  6.1891],\n",
              "       [ 1.    , 20.27  ],\n",
              "       [ 1.    ,  5.4901],\n",
              "       [ 1.    ,  6.3261],\n",
              "       [ 1.    ,  5.5649],\n",
              "       [ 1.    , 18.945 ],\n",
              "       [ 1.    , 12.828 ],\n",
              "       [ 1.    , 10.957 ],\n",
              "       [ 1.    , 13.176 ],\n",
              "       [ 1.    , 22.203 ],\n",
              "       [ 1.    ,  5.2524],\n",
              "       [ 1.    ,  6.5894],\n",
              "       [ 1.    ,  9.2482],\n",
              "       [ 1.    ,  5.8918],\n",
              "       [ 1.    ,  8.2111],\n",
              "       [ 1.    ,  7.9334],\n",
              "       [ 1.    ,  8.0959],\n",
              "       [ 1.    ,  5.6063],\n",
              "       [ 1.    , 12.836 ],\n",
              "       [ 1.    ,  6.3534],\n",
              "       [ 1.    ,  5.4069],\n",
              "       [ 1.    ,  6.8825],\n",
              "       [ 1.    , 11.708 ],\n",
              "       [ 1.    ,  5.7737],\n",
              "       [ 1.    ,  7.8247],\n",
              "       [ 1.    ,  7.0931],\n",
              "       [ 1.    ,  5.0702],\n",
              "       [ 1.    ,  5.8014],\n",
              "       [ 1.    , 11.7   ],\n",
              "       [ 1.    ,  5.5416],\n",
              "       [ 1.    ,  7.5402],\n",
              "       [ 1.    ,  5.3077],\n",
              "       [ 1.    ,  7.4239],\n",
              "       [ 1.    ,  7.6031],\n",
              "       [ 1.    ,  6.3328],\n",
              "       [ 1.    ,  6.3589],\n",
              "       [ 1.    ,  6.2742],\n",
              "       [ 1.    ,  5.6397],\n",
              "       [ 1.    ,  9.3102],\n",
              "       [ 1.    ,  9.4536],\n",
              "       [ 1.    ,  8.8254],\n",
              "       [ 1.    ,  5.1793],\n",
              "       [ 1.    , 21.279 ],\n",
              "       [ 1.    , 14.908 ],\n",
              "       [ 1.    , 18.959 ],\n",
              "       [ 1.    ,  7.2182],\n",
              "       [ 1.    ,  8.2951],\n",
              "       [ 1.    , 10.236 ],\n",
              "       [ 1.    ,  5.4994],\n",
              "       [ 1.    , 20.341 ],\n",
              "       [ 1.    , 10.136 ],\n",
              "       [ 1.    ,  7.3345],\n",
              "       [ 1.    ,  6.0062],\n",
              "       [ 1.    ,  7.2259],\n",
              "       [ 1.    ,  5.0269],\n",
              "       [ 1.    ,  6.5479],\n",
              "       [ 1.    ,  7.5386],\n",
              "       [ 1.    ,  5.0365],\n",
              "       [ 1.    , 10.274 ],\n",
              "       [ 1.    ,  5.1077],\n",
              "       [ 1.    ,  5.7292],\n",
              "       [ 1.    ,  5.1884],\n",
              "       [ 1.    ,  6.3557],\n",
              "       [ 1.    ,  9.7687],\n",
              "       [ 1.    ,  6.5159],\n",
              "       [ 1.    ,  8.5172],\n",
              "       [ 1.    ,  9.1802],\n",
              "       [ 1.    ,  6.002 ],\n",
              "       [ 1.    ,  5.5204],\n",
              "       [ 1.    ,  5.0594],\n",
              "       [ 1.    ,  5.7077],\n",
              "       [ 1.    ,  7.6366],\n",
              "       [ 1.    ,  5.8707],\n",
              "       [ 1.    ,  5.3054],\n",
              "       [ 1.    ,  8.2934],\n",
              "       [ 1.    , 13.394 ],\n",
              "       [ 1.    ,  5.4369]])"
            ]
          },
          "metadata": {
            "tags": []
          },
          "execution_count": 10
        }
      ]
    },
    {
      "cell_type": "code",
      "metadata": {
        "colab": {
          "base_uri": "https://localhost:8080/"
        },
        "id": "SePJKZ9o4M9h",
        "outputId": "f0fac47b-4f22-4dc9-d87a-7c1dcd907f0b"
      },
      "source": [
        "X.shape"
      ],
      "execution_count": 11,
      "outputs": [
        {
          "output_type": "execute_result",
          "data": {
            "text/plain": [
              "(97, 2)"
            ]
          },
          "metadata": {
            "tags": []
          },
          "execution_count": 11
        }
      ]
    },
    {
      "cell_type": "code",
      "metadata": {
        "colab": {
          "base_uri": "https://localhost:8080/"
        },
        "id": "wsfU2qA1SKJ6",
        "outputId": "4519f89e-8337-4ad0-9bb7-a86fe2d16864"
      },
      "source": [
        "y.shape\n",
        "\n"
      ],
      "execution_count": 12,
      "outputs": [
        {
          "output_type": "execute_result",
          "data": {
            "text/plain": [
              "(97,)"
            ]
          },
          "metadata": {
            "tags": []
          },
          "execution_count": 12
        }
      ]
    },
    {
      "cell_type": "code",
      "metadata": {
        "colab": {
          "base_uri": "https://localhost:8080/"
        },
        "id": "BzChk2EqWI2x",
        "outputId": "b9002ace-2af7-4eb2-d7f0-7009f863618c"
      },
      "source": [
        "np.transpose([y]).shape"
      ],
      "execution_count": 13,
      "outputs": [
        {
          "output_type": "execute_result",
          "data": {
            "text/plain": [
              "(97, 1)"
            ]
          },
          "metadata": {
            "tags": []
          },
          "execution_count": 13
        }
      ]
    },
    {
      "cell_type": "markdown",
      "metadata": {
        "id": "4-KOAfJR_KCf"
      },
      "source": [
        "<a id=\"section2\"></a>\n",
        "#### 2.2.3 Computing the cost $J(\\theta)$\n",
        "\n",
        "As you perform gradient descent to learn minimize the cost function $J(\\theta)$, it is helpful to monitor the convergence by computing the cost. In this section, you will implement a function to calculate $J(\\theta)$ so you can check the convergence of your gradient descent implementation. \n",
        "\n",
        "Your next task is to complete the code for the function `computeCost` which computes $J(\\theta)$. As you are doing this, remember that the variables $X$ and $y$ are not scalar values. $X$ is a matrix whose rows represent the examples from the training set and $y$ is a vector whose each elemennt represent the value at a given row of $X$.\n",
        "<a id=\"computeCost\"></a>"
      ]
    },
    {
      "cell_type": "code",
      "metadata": {
        "id": "0CSB132b_KCf"
      },
      "source": [
        "def computeCost(X, y, theta):\n",
        "    \"\"\"\n",
        "    Compute cost for linear regression. Computes the cost of using theta as the\n",
        "    parameter for linear regression to fit the data points in X and y.\n",
        "    \n",
        "    Parameters\n",
        "    ----------\n",
        "    X : array_like\n",
        "        The input dataset of shape (m x n+1), where m is the number of examples,\n",
        "        and n is the number of features. We assume a vector of one's already \n",
        "        appended to the features so we have n+1 columns.\n",
        "    \n",
        "    y : array_like\n",
        "        The values of the function at each data point. This is a vector of\n",
        "        shape (m, ).\n",
        "    \n",
        "    theta : array_like\n",
        "        The parameters for the regression function. This is a vector of \n",
        "        shape (n+1, ).\n",
        "    \n",
        "    Returns\n",
        "    -------\n",
        "    J : float\n",
        "        The value of the regression cost function.\n",
        "    \n",
        "    Instructions\n",
        "    ------------\n",
        "    Compute the cost of a particular choice of theta. \n",
        "    You should set J to the cost.\n",
        "    \"\"\"\n",
        "    \n",
        "    # initialize some useful values\n",
        "    m = y.size  # number of training examples\n",
        "    \n",
        "    # You need to return the following variables correctly\n",
        "    J = 0\n",
        "    \n",
        "    # ====================== YOUR CODE HERE =====================\n",
        "    error_square = np.power((X.dot(theta)- y),2)\n",
        "    J = error_square.sum(axis = 0)/(2*m)\n",
        "    \n",
        "    # ===========================================================\n",
        "    return J"
      ],
      "execution_count": 14,
      "outputs": []
    },
    {
      "cell_type": "markdown",
      "metadata": {
        "id": "7tVbRXA4_KCi"
      },
      "source": [
        "Once you have completed the function, You can initialize $\\theta$ differently . You will see the cost printed to the screen."
      ]
    },
    {
      "cell_type": "code",
      "metadata": {
        "id": "E_CwU1Zp_KCi",
        "colab": {
          "base_uri": "https://localhost:8080/"
        },
        "outputId": "522a8614-c187-48e2-f3ce-df6ac6158c81"
      },
      "source": [
        "# YOU CAN CHANGE THE VALUE OF A,B FOR DIFFERENT INITIALIZATIONS OF THETA\n",
        "A = 0.69\n",
        "B = -0.42\n",
        "J = computeCost(X, y, theta=np.array([A, B]))\n",
        "print('With theta = [-A,B] \\nCost computed =%.3f' %J)\n",
        "\n",
        "\n"
      ],
      "execution_count": 15,
      "outputs": [
        {
          "output_type": "stream",
          "text": [
            "With theta = [-A,B] \n",
            "Cost computed =60.535\n"
          ],
          "name": "stdout"
        }
      ]
    },
    {
      "cell_type": "markdown",
      "metadata": {
        "id": "4ChnU_FD_KCl"
      },
      "source": [
        "<a id=\"section3\"></a>\n",
        "#### 2.2.4 Gradient descent\n",
        "\n",
        "Next, you will complete a function which implements gradient descent.\n",
        "The loop structure has been written for you, and you only need to supply the updates to $\\theta$ within each iteration. \n",
        "\n",
        "As you program, make sure you understand what you are trying to optimize and what is being updated. Keep in mind that the cost $J(\\theta)$ is parameterized by the vector $\\theta$, not $X$ and $y$. That is, we minimize the value of $J(\\theta)$ by changing the values of the vector $\\theta$, not by changing $X$ or $y$. [Refer to the equations in this notebook](#section2) and to the video lectures if you are uncertain. A good way to verify that gradient descent is working correctly is to look at the value of $J(\\theta)$ and check that it is decreasing with each step. \n",
        "\n",
        "The starter code for the function `gradientDescent` calls `computeCost` on every iteration and saves the cost to a `python` list. Assuming you have implemented gradient descent and `computeCost` correctly, your value of $J(\\theta)$ should never increase, and should converge to a steady value by the end of the algorithm.\n",
        "\n",
        "<div class=\"alert alert-box alert-warning\">\n",
        "**Vectors and matrices in `numpy`** - Important implementation notes\n",
        "\n",
        "A vector in `numpy` is a one dimensional array, for example `np.array([1, 2, 3])` is a vector. A matrix in `numpy` is a two dimensional array, for example `np.array([[1, 2, 3], [4, 5, 6]])`. However, the following is still considered a matrix `np.array([[1, 2, 3]])` since it has two dimensions, even if it has a shape of 1x3 (which looks like a vector).\n",
        "\n",
        "Given the above, the function `np.dot` which we will use for all matrix/vector multiplication has the following properties:\n",
        "- It always performs inner products on vectors. If `x=np.array([1, 2, 3])`, then `np.dot(x, x)` is a scalar.\n",
        "- For matrix-vector multiplication, so if $X$ is a $m\\times n$ matrix and $y$ is a vector of length $m$, then the operation `np.dot(y, X)` considers $y$ as a $1 \\times m$ vector. On the other hand, if $y$ is a vector of length $n$, then the operation `np.dot(X, y)` considers $y$ as a $n \\times 1$ vector.\n",
        "- A vector can be promoted to a matrix using `y[None]` or `[y[np.newaxis]`. That is, if `y = np.array([1, 2, 3])` is a vector of size 3, then `y[None, :]` is a matrix of shape $1 \\times 3$. We can use `y[:, None]` to obtain a shape of $3 \\times 1$.\n",
        "<div>\n",
        "<a id=\"gradientDescent\"></a>"
      ]
    },
    {
      "cell_type": "code",
      "metadata": {
        "id": "904i3ztS_KCl"
      },
      "source": [
        "def gradientDescent(X, y, theta, alpha, num_iters):\n",
        "    \"\"\"\n",
        "    Performs gradient descent to learn `theta`. Updates theta by taking `num_iters`\n",
        "    gradient steps with learning rate `alpha`.\n",
        "    \n",
        "    Parameters\n",
        "    ----------\n",
        "    X : array_like\n",
        "        The input dataset of shape (m x n+1).\n",
        "    \n",
        "    y : arra_like\n",
        "        Value at given features. A vector of shape (m, ).\n",
        "    \n",
        "    theta : array_like\n",
        "        Initial values for the linear regression parameters. \n",
        "        A vector of shape (n+1, ).\n",
        "    \n",
        "    alpha : float\n",
        "        The learning rate.\n",
        "    \n",
        "    num_iters : int\n",
        "        The number of iterations for gradient descent. \n",
        "    \n",
        "    Returns\n",
        "    -------\n",
        "    theta : array_like\n",
        "        The learned linear regression parameters. A vector of shape (n+1, ).\n",
        "    \n",
        "    J_history : list\n",
        "        A python list for the values of the cost function after each iteration.\n",
        "    \n",
        "    Instructions\n",
        "    ------------\n",
        "    Peform a single gradient step on the parameter vector theta.\n",
        "\n",
        "    While debugging, it can be useful to print out the values of \n",
        "    the cost function (computeCost) and gradient here.\n",
        "    \"\"\"\n",
        "    # Initialize some useful values\n",
        "    m = y.shape[0]  # number of training examples\n",
        "    \n",
        "    # make a copy of theta, to avoid changing the original array, since numpy arrays\n",
        "    # are passed by reference to functions\n",
        "    theta = theta.copy()\n",
        "    \n",
        "    J_history = [] # Use a python list to save cost in every iteration\n",
        "    \n",
        "    for i in range(num_iters):\n",
        "        # ==================== YOUR CODE HERE =================================\n",
        "        theta = theta - (alpha/m) * np.transpose(X).dot(X.dot(theta)-y)\n",
        "\n",
        "        # =====================================================================\n",
        "        \n",
        "        # save the cost J in every iteration\n",
        "        J_history.append(computeCost(X, y, theta))\n",
        "    \n",
        "    return theta, J_history\n",
        "    print(theta)\n",
        "    print(J_history)"
      ],
      "execution_count": 16,
      "outputs": []
    },
    {
      "cell_type": "markdown",
      "metadata": {
        "id": "VcqHtO8L_KCn"
      },
      "source": [
        "After you are finished call the implemented `gradientDescent` function and print the computed $\\theta$. We initialize the $\\theta$ parameters to 0 and the learning rate $\\alpha$ to 0.01. Execute the following cell to check your code."
      ]
    },
    {
      "cell_type": "code",
      "metadata": {
        "id": "NfzadPye_KCo",
        "colab": {
          "base_uri": "https://localhost:8080/"
        },
        "outputId": "c675fba9-ccff-4493-ef65-1612a1f298c4"
      },
      "source": [
        "# initialize fitting parameters\n",
        "# FEEL FREE TO CHANGE ANY PARAMETER\n",
        "A = 2.0\n",
        "B = -1.0\n",
        "theta = np.array([A,B]) \n",
        "\n",
        "# some gradient descent settings\n",
        "iterations = 1500\n",
        "alpha = 0.001\n",
        "\n",
        "theta, J_history = gradientDescent(X ,y, theta, alpha, iterations)\n",
        "print('Theta found by gradient descent: {:.4f}, {:.4f}'.format(*theta))\n",
        "print(J_history)\n",
        "print(len(J_history))"
      ],
      "execution_count": 30,
      "outputs": [
        {
          "output_type": "stream",
          "text": [
            "Theta found by gradient descent: 0.7246, 0.7289\n",
            "[95.65919317504202, 81.80590402091629, 70.13690415142136, 60.30776041330355, 52.028352157306145, 45.0543068823172, 39.17978636395029, 34.231410314216, 30.063138198836892, 26.55195812355431, 23.59425552543515, 21.102754473017693, 19.003941282537003, 17.2358943954314, 15.746456455156915, 14.491694623053089, 13.434603681814878, 12.544013642210603, 11.79366960561784, 11.161456719937318, 10.628747349598768, 10.179851188130007, 9.801552080623267, 9.482717883106961, 9.21397184187929, 8.98741579192809, 8.79639700325965, 8.63531179244482, 8.49944010199901, 8.38480616438272, 8.288061137426565, 8.20638424658093, 8.137399515711323, 8.07910562833421, 8.029816848798383, 7.988113259406261, 7.952798844475957, 7.922866183986463, 7.897466714562987, 7.87588567990741, 7.857521031210965, 7.841865654689811, 7.828492401600674, 7.817041478822885, 7.807209827777096, 7.7987421781465205, 7.791423512306761, 7.785072718014304, 7.779537241981191, 7.774688586509514, 7.770418516246433, 7.766635863083223, 7.763263834879035, 7.7602377485629495, 7.757503120695523, 7.755014059123248, 7.752731908247633, 7.750624107917207, 7.748663232257016, 7.7468261800618645, 7.745093492853708, 7.743448780472281, 7.741878237242422, 7.740370234435313, 7.738914976993164, 7.737504214383804, 7.736130997049645, 7.734789471261399, 7.733474706320605, 7.732182549010015, 7.730909500995213, 7.72965261555835, 7.728409410615597, 7.7271777954505785, 7.72595600900097, 7.724742567876458, 7.723536222573597, 7.722335920594979, 7.721140775384026, 7.719950040158345, 7.718763085869217, 7.717579382636583, 7.716398484111474, 7.715220014304289, 7.71404365649007, 7.712869143863267, 7.711696251666123, 7.710524790558315, 7.709354601032094, 7.708185548708109, 7.707017520372989, 7.7058504206417755, 7.7046841691466135, 7.703518698168775, 7.702353950644061, 7.70118987848274, 7.7000264411544, 7.698863604495954, 7.697701339707601, 7.696539622507126, 7.6953784324175425, 7.69421775216706, 7.693057567183685, 7.691897865169506, 7.690738635742103, 7.689579870132518, 7.688421560930836, 7.6872637018718954, 7.686106287654774, 7.684949313790767, 7.683792776475303, 7.682636672480083, 7.681480999062215, 7.680325753887685, 7.679170934966883, 7.678016540600311, 7.67686256933284, 7.675709019915188, 7.674555891271469, 7.673403182471855, 7.672250892709556, 7.67109902128143, 7.669947567571647, 7.668796531037921, 7.667645911199929, 7.666495707629555, 7.6653459199426495, 7.664196547792122, 7.663047590862093, 7.661899048862988, 7.660750921527397, 7.659603208606583, 7.658455909867559, 7.657309025090594, 7.656162554067148, 7.655016496598104, 7.6538708524922985, 7.652725621565271, 7.651580803638222, 7.650436398537116, 7.649292406091955, 7.648148826136135, 7.6470056585059325, 7.6458629030400465, 7.644720559579235, 7.643578627965994, 7.642437108044294, 7.6412959996593495, 7.640155302657441, 7.6390150168857485, 7.637875142192222, 7.636735678425462, 7.635596625434638, 7.634457983069389, 7.633319751179777, 7.632181929616214, 7.631044518229428, 7.629907516870404, 7.628770925390368, 7.627634743640754, 7.626498971473174, 7.6253636087393994, 7.624228655291352, 7.62309411098108, 7.621959975660753, 7.620826249182641, 7.6196929313991175, 7.618560022162651, 7.61742752132579, 7.616295428741164, 7.6151637442614835, 7.614032467739529, 7.612901599028144, 7.611771137980253, 7.610641084448828, 7.609511438286921, 7.6083821993476315, 7.607253367484125, 7.606124942549626, 7.6049969243974145, 7.603869312880831, 7.602742107853267, 7.601615309168174, 7.600488916679062, 7.599362930239485, 7.598237349703059, 7.597112174923458, 7.595987405754402, 7.59486304204967, 7.593739083663091, 7.59261553044855, 7.591492382259984, 7.590369638951386, 7.589247300376798, 7.588125366390317, 7.587003836846092, 7.585882711598325, 7.584761990501274, 7.583641673409246, 7.5825217601766, 7.581402250657751, 7.580283144707165, 7.57916444217936, 7.578046142928905, 7.576928246810428, 7.575810753678601, 7.574693663388155, 7.573576975793869, 7.572460690750577, 7.571344808113165, 7.570229327736572, 7.569114249475786, 7.567999573185851, 7.56688529872186, 7.565771425938963, 7.564657954692353, 7.563544884837289, 7.562432216229071, 7.561319948723057, 7.5602080821746505, 7.559096616439317, 7.557985551372565, 7.556874886829959, 7.555764622667118, 7.554654758739709, 7.5535452949034525, 7.55243623101412, 7.551327566927537, 7.550219302499577, 7.549111437586174, 7.548003972043304, 7.546896905727, 7.545790238493348, 7.544683970198482, 7.54357810069859, 7.542472629849913, 7.5413675575087415, 7.540262883531421, 7.5391586077743415, 7.538054730093957, 7.53695125034676, 7.535848168389304, 7.534745484078189, 7.533643197270073, 7.532541307821657, 7.5314398155896995, 7.53033872043101, 7.529238022202449, 7.528137720760927, 7.527037815963409, 7.525938307666908, 7.524839195728493, 7.5237404800052845, 7.522642160354448, 7.521544236633203, 7.520446708698827, 7.51934957640864, 7.518252839620022, 7.517156498190396, 7.516060551977246, 7.514965000838093, 7.513869844630523, 7.512775083212172, 7.5116807164407176, 7.510586744173897, 7.509493166269497, 7.508399982585354, 7.5073071929793596, 7.506214797309451, 7.50512279543362, 7.504031187209911, 7.502939972496415, 7.501849151151282, 7.500758723032699, 7.49966868799892, 7.498579045908242, 7.497489796619012, 7.496400939989634, 7.495312475878556, 7.494224404144282, 7.493136724645365, 7.49204943724041, 7.490962541788071, 7.489876038147054, 7.488789926176119, 7.4877042057340715, 7.486618876679772, 7.485533938872129, 7.484449392170104, 7.483365236432711, 7.482281471519008, 7.481198097288114, 7.480115113599186, 7.479032520311446, 7.477950317284152, 7.476868504376626, 7.475787081448234, 7.474706048358394, 7.473625404966572, 7.472545151132291, 7.471465286715116, 7.470385811574668, 7.469306725570622, 7.468228028562697, 7.467149720410664, 7.466071800974348, 7.464994270113621, 7.463917127688406, 7.462840373558677, 7.461764007584461, 7.460688029625829, 7.45961243954291, 7.458537237195881, 7.457462422444965, 7.456387995150441, 7.455313955172635, 7.454240302371925, 7.453167036608739, 7.452094157743555, 7.451021665636899, 7.449949560149353, 7.448877841141545, 7.447806508474155, 7.446735562007912, 7.445665001603593, 7.444594827122032, 7.443525038424105, 7.442455635370745, 7.441386617822932, 7.440317985641693, 7.439249738688116, 7.438181876823323, 7.4371143999085, 7.436047307804876, 7.434980600373734, 7.433914277476399, 7.432848338974256, 7.431782784728736, 7.430717614601319, 7.429652828453533, 7.428588426146961, 7.427524407543233, 7.426460772504029, 7.42539752089108, 7.424334652566164, 7.4232721673911115, 7.422210065227803, 7.421148345938168, 7.4200870093841855, 7.419026055427883, 7.417965483931341, 7.416905294756685, 7.415845487766096, 7.4147860628218005, 7.413727019786074, 7.412668358521248, 7.411610078889698, 7.410552180753848, 7.409494663976174, 7.408437528419204, 7.40738077394551, 7.406324400417717, 7.405268407698504, 7.404212795650587, 7.403157564136744, 7.402102713019795, 7.401048242162617, 7.399994151428125, 7.398940440679292, 7.397887109779139, 7.396834158590737, 7.395781586977202, 7.394729394801704, 7.393677581927461, 7.392626148217739, 7.391575093535854, 7.390524417745171, 7.389474120709107, 7.388424202291127, 7.387374662354738, 7.386325500763509, 7.385276717381049, 7.384228312071018, 7.383180284697127, 7.382132635123136, 7.381085363212849, 7.38003846883013, 7.37899195183888, 7.377945812103056, 7.376900049486663, 7.375854663853753, 7.374809655068431, 7.373765022994846, 7.372720767497198, 7.371676888439739, 7.370633385686768, 7.369590259102626, 7.368547508551717, 7.36750513389848, 7.366463135007415, 7.365421511743058, 7.364380263970005, 7.363339391552893, 7.362298894356417, 7.36125877224531, 7.360219025084358, 7.359179652738401, 7.358140655072319, 7.3571020319510465, 7.356063783239567, 7.355025908802905, 7.353988408506148, 7.352951282214415, 7.351914529792889, 7.350878151106793, 7.349842146021395, 7.348806514402025, 7.347771256114045, 7.346736371022883, 7.3457018589939995, 7.344667719892915, 7.343633953585191, 7.342600559936442, 7.3415675388123285, 7.340534890078563, 7.339502613600898, 7.338470709245144, 7.337439176877157, 7.33640801636284, 7.335377227568143, 7.334346810359066, 7.333316764601661, 7.332287090162018, 7.331257786906289, 7.330228854700662, 7.329200293411381, 7.328172102904733, 7.32714428304706, 7.326116833704744, 7.325089754744223, 7.3240630460319744, 7.3230367074345315, 7.3220107388184745, 7.3209851400504276, 7.319959910997066, 7.318935051525111, 7.317910561501337, 7.316886440792561, 7.315862689265648, 7.314839306787516, 7.313816293225127, 7.312793648445489, 7.311771372315666, 7.310749464702761, 7.309727925473926, 7.30870675449637, 7.307685951637337, 7.30666551676413, 7.305645449744093, 7.304625750444621, 7.303606418733153, 7.302587454477181, 7.301568857544239, 7.300550627801917, 7.299532765117845, 7.298515269359702, 7.297498140395217, 7.296481378092167, 7.295464982318373, 7.2944489529417105, 7.293433289830092, 7.292417992851489, 7.291403061873915, 7.290388496765429, 7.28937429739414, 7.288360463628208, 7.287346995335834, 7.286333892385269, 7.285321154644815, 7.284308781982817, 7.283296774267671, 7.282285131367815, 7.281273853151741, 7.280262939487986, 7.279252390245127, 7.2782422052918045, 7.277232384496691, 7.276222927728515, 7.275213834856048, 7.274205105748113, 7.273196740273574, 7.272188738301348, 7.271181099700396, 7.27017382433973, 7.269166912088405, 7.268160362815526, 7.2671541763902425, 7.266148352681751, 7.265142891559304, 7.264137792892186, 7.2631330565497425, 7.262128682401358, 7.261124670316466, 7.260121020164546, 7.259117731815132, 7.258114805137791, 7.257112240002149, 7.256110036277878, 7.255108193834689, 7.254106712542348, 7.253105592270663, 7.252104832889492, 7.251104434268738, 7.250104396278354, 7.249104718788335, 7.248105401668725, 7.247106444789617, 7.246107848021149, 7.245109611233504, 7.244111734296917, 7.243114217081663, 7.24211705945807, 7.241120261296509, 7.240123822467399, 7.239127742841205, 7.238132022288438, 7.237136660679661, 7.236141657885473, 7.2351470137765315, 7.234152728223534, 7.233158801097222, 7.232165232268394, 7.231172021607885, 7.23017916898658, 7.22918667427541, 7.228194537345354, 7.2272027580674365, 7.2262113363127325, 7.225220271952353, 7.224229564857466, 7.223239214899282, 7.222249221949056, 7.2212595858780935, 7.220270306557744, 7.2192813838594025, 7.218292817654512, 7.217304607814563, 7.216316754211087, 7.215329256715669, 7.214342115199934, 7.213355329535559, 7.212368899594261, 7.21138282524781, 7.210397106368019, 7.209411742826741, 7.208426734495888, 7.207442081247409, 7.206457782953303, 7.205473839485609, 7.204490250716423, 7.203507016517875, 7.20252413676215, 7.201541611321477, 7.200559440068128, 7.199577622874425, 7.198596159612734, 7.197615050155465, 7.196634294375079, 7.19565389214408, 7.194673843335016, 7.193694147820484, 7.192714805473127, 7.191735816165631, 7.190757179770732, 7.189778896161211, 7.1888009652098885, 7.187823386789642, 7.186846160773382, 7.185869287034077, 7.184892765444735, 7.183916595878408, 7.182940778208197, 7.18196531230725, 7.18099019804876, 7.180015435305962, 7.179041023952139, 7.17806696386062, 7.177093254904783, 7.176119896958044, 7.175146889893871, 7.174174233585775, 7.173201927907313, 7.172229972732089, 7.171258367933749, 7.17028711338599, 7.169316208962547, 7.168345654537209, 7.167375449983803, 7.166405595176207, 7.165436089988344, 7.164466934294175, 7.163498127967717, 7.162529670883026, 7.161561562914207, 7.160593803935403, 7.1596263938208144, 7.158659332444677, 7.157692619681274, 7.156726255404938, 7.155760239490042, 7.154794571811008, 7.153829252242299, 7.152864280658428, 7.151899656933951, 7.15093538094347, 7.14997145256163, 7.149007871663123, 7.148044638122685, 7.147081751815101, 7.1461192126151944, 7.14515702039784, 7.1441951750379555, 7.1432336764105, 7.142272524390486, 7.141311718852964, 7.140351259673031, 7.13939114672583, 7.1384313798865495, 7.13747195903042, 7.136512884032722, 7.135554154768777, 7.134595771113952, 7.133637732943661, 7.1326800401333585, 7.13172269255855, 7.130765690094781, 7.129809032617645, 7.1288527200027785, 7.12789675212586, 7.126941128862621, 7.125985850088831, 7.125030915680304, 7.124076325512903, 7.123122079462534, 7.122168177405147, 7.121214619216737, 7.120261404773343, 7.119308533951051, 7.118356006625988, 7.117403822674331, 7.116451981972295, 7.115500484396146, 7.11454932982219, 7.113598518126779, 7.112648049186311, 7.111697922877229, 7.110748139076015, 7.1097986976592, 7.1088495985033635, 7.107900841485121, 7.106952426481136, 7.106004353368118, 7.105056622022821, 7.104109232322043, 7.103162184142622, 7.102215477361447, 7.101269111855449, 7.1003230875016, 7.099377404176922, 7.098432061758475, 7.097487060123372, 7.096542399148759, 7.09559807871184, 7.094654098689846, 7.093710458960071, 7.09276715939984, 7.091824199886527, 7.09088158029755, 7.089939300510368, 7.088997360402493, 7.0880557598514695, 7.087114498734893, 7.086173576930404, 7.085232994315685, 7.08429275076846, 7.083352846166499, 7.082413280387621, 7.081474053309684, 7.080535164810587, 7.07959661476828, 7.078658403060752, 7.07772052956604, 7.076782994162221, 7.07584579672742, 7.074908937139798, 7.0739724152775745, 7.073036231018998, 7.072100384242368, 7.071164874826026, 7.070229702648359, 7.0692948675877965, 7.068360369522815, 7.067426208331926, 7.0664923838936975, 7.065558896086731, 7.064625744789677, 7.063692929881228, 7.062760451240118, 7.061828308745128, 7.060896502275085, 7.0599650317088525, 7.059033896925345, 7.058103097803514, 7.05717263422236, 7.056242506060925, 7.055312713198294, 7.054383255513596, 7.053454132886006, 7.052525345194737, 7.0515968923190515, 7.050668774138253, 7.049740990531686, 7.048813541378742, 7.047886426558857, 7.046959645951506, 7.046033199436212, 7.0451070868925365, 7.0441813082000895, 7.043255863238518, 7.042330751887525, 7.041405974026839, 7.040481529536247, 7.039557418295571, 7.03863364018468, 7.037710195083484, 7.036787082871939, 7.03586430343004, 7.034941856637832, 7.0340197423753965, 7.033097960522861, 7.032176510960396, 7.031255393568218, 7.030334608226582, 7.029414154815787, 7.028494033216177, 7.027574243308139, 7.026654784972105, 7.0257356580885455, 7.024816862537975, 7.023898398200954, 7.022980264958083, 7.022062462690007, 7.02114499127742, 7.020227850601043, 7.019311040541656, 7.018394560980076, 7.017478411797161, 7.016562592873817, 7.015647104090986, 7.014731945329659, 7.013817116470867, 7.012902617395684, 7.011988447985229, 7.011074608120662, 7.010161097683183, 7.009247916554042, 7.008335064614525, 7.007422541745963, 7.006510347829735, 7.005598482747254, 7.004686946379981, 7.003775738609417, 7.002864859317111, 7.0019543083846445, 7.001044085693654, 7.000134191125814, 6.999224624562834, 6.998315385886477, 6.997406474978545, 6.996497891720878, 6.995589635995365, 6.994681707683934, 6.993774106668559, 6.992866832831252, 6.99195988605407, 6.9910532662191125, 6.99014697320852, 6.989241006904478, 6.9883353671892126, 6.987430053944993, 6.9865250670541315, 6.985620406398982, 6.984716071861938, 6.983812063325442, 6.982908380671973, 6.982005023784056, 6.981101992544256, 6.98019928683518, 6.9792969065394805, 6.97839485153985, 6.9774931217190215, 6.976591716959775, 6.975690637144929, 6.974789882157347, 6.973889451879931, 6.972989346195628, 6.972089564987424, 6.971190108138355, 6.970290975531488, 6.9693921670499455, 6.968493682576877, 6.967595521995485, 6.966697685189013, 6.965800172040739, 6.964902982433994, 6.964006116252143, 6.9631095733785955, 6.962213353696804, 6.961317457090261, 6.9604218834425025, 6.95952663263711, 6.958631704557697, 6.957737099087928, 6.956842816111508, 6.9559488555121805, 6.955055217173731, 6.954161900979994, 6.953268906814836, 6.952376234562171, 6.951483884105954, 6.9505918553301855, 6.9497001481188985, 6.948808762356175, 6.947917697926138, 6.947026954712951, 6.946136532600817, 6.945246431473987, 6.944356651216751, 6.943467191713436, 6.9425780528484164, 6.941689234506105, 6.94080073657096, 6.939912558927477, 6.939024701460197, 6.938137164053699, 6.937249946592606, 6.9363630489615815, 6.935476471045331, 6.9345902127286, 6.933704273896182, 6.932818654432903, 6.931933354223635, 6.931048373153291, 6.93016371110683, 6.929279367969245, 6.928395343625572, 6.927511637960891, 6.926628250860323, 6.925745182209029, 6.924862431892216, 6.923979999795125, 6.923097885803041, 6.922216089801293, 6.921334611675252, 6.920453451310326, 6.919572608591966, 6.918692083405665, 6.917811875636956, 6.916931985171415, 6.916052411894659, 6.915173155692346, 6.914294216450174, 6.913415594053882, 6.912537288389253, 6.9116592993421095, 6.910781626798314, 6.909904270643772, 6.909027230764429, 6.908150507046271, 6.90727409937533, 6.906398007637669, 6.905522231719406, 6.904646771506687, 6.903771626885703, 6.902896797742691, 6.902022283963927, 6.90114808543572, 6.900274202044431, 6.899400633676457, 6.898527380218235, 6.897654441556245, 6.896781817577008, 6.895909508167083, 6.895037513213073, 6.8941658326016215, 6.8932944662194116, 6.892423413953166, 6.891552675689654, 6.890682251315679, 6.889812140718089, 6.8889423437837705, 6.888072860399655, 6.887203690452706, 6.886334833829941, 6.885466290418407, 6.884598060105195, 6.8837301427774396, 6.8828625383223105, 6.881995246627025, 6.8811282675788314, 6.880261601065032, 6.879395246972957, 6.878529205189984, 6.877663475603533, 6.876798058101054, 6.875932952570053, 6.875068158898063, 6.874203676972666, 6.8733395066814795, 6.872475647912163, 6.8716121005524196, 6.870748864489987, 6.86988593961265, 6.869023325808231, 6.868161022964588, 6.867299030969628, 6.8664373497112905, 6.865575979077563, 6.864714918956467, 6.863854169236066, 6.862993729804467, 6.862133600549814, 6.861273781360293, 6.860414272124128, 6.859555072729586, 6.858696183064974, 6.8578376030186385, 6.856979332478964, 6.85612137133438, 6.855263719473353, 6.854406376784388, 6.853549343156036, 6.852692618476883, 6.851836202635559, 6.850980095520728, 6.850124297021102, 6.849268807025426, 6.848413625422492, 6.847558752101128, 6.846704186950199, 6.845849929858618, 6.844995980715333, 6.844142339409329, 6.8432890058296385, 6.842435979865329, 6.8415832614055105, 6.84073085033933, 6.839878746555977, 6.839026949944681, 6.838175460394704, 6.837324277795365, 6.836473402036008, 6.8356228330060205, 6.834772570594828, 6.833922614691904, 6.833072965186752, 6.832223621968923, 6.831374584928003, 6.830525853953617, 6.829677428935438, 6.828829309763166, 6.827981496326552, 6.8271339885153814, 6.826286786219479, 6.825439889328712, 6.824593297732986, 6.823747011322245, 6.822901029986475, 6.822055353615701, 6.821209982099987, 6.820364915329434, 6.819520153194189, 6.818675695584434, 6.81783154239039, 6.816987693502322, 6.8161441488105305, 6.815300908205358, 6.8144579715771805, 6.813615338816422, 6.812773009813544, 6.811930984459042, 6.811089262643459, 6.810247844257369, 6.809406729191392, 6.8085659173361845, 6.807725408582446, 6.806885202820908, 6.806045299942347, 6.80520569983758, 6.8043664023974575, 6.803527407512877, 6.802688715074767, 6.8018503249741045, 6.8010122371018955, 6.8001744513491955, 6.7993369676070925, 6.798499785766715, 6.797662905719231, 6.796826327355849, 6.795990050567817, 6.795154075246419, 6.794318401282984, 6.793483028568869, 6.792647956995486, 6.791813186454276, 6.790978716836716, 6.790144548034331, 6.789310679938683, 6.788477112441365, 6.787643845434021, 6.786810878808326, 6.785978212455997, 6.7851458462687875, 6.784313780138495, 6.7834820139569505, 6.782650547616028, 6.781819381007641, 6.780988514023735, 6.780157946556304, 6.779327678497372, 6.778497709739008, 6.77766804017332, 6.776838669692451, 6.776009598188587, 6.775180825553948, 6.774352351680796, 6.773524176461434, 6.772696299788198, 6.771868721553468, 6.771041441649661, 6.770214459969233, 6.769387776404676, 6.768561390848527, 6.767735303193355, 6.766909513331771, 6.766084021156427, 6.7652588265600055, 6.76443392943524, 6.76360932967489, 6.762785027171764, 6.761961021818703, 6.761137313508588, 6.760313902134341, 6.759490787588916, 6.758667969765314, 6.757845448556572, 6.757023223855762, 6.756201295555993, 6.755379663550424, 6.754558327732239, 6.753737287994671, 6.752916544230984, 6.7520960963344825, 6.751275944198512, 6.750456087716456, 6.749636526781733, 6.748817261287803, 6.747998291128162, 6.747179616196348, 6.746361236385936, 6.745543151590536, 6.7447253617038, 6.743907866619418, 6.743090666231118, 6.742273760432665, 6.741457149117863, 6.740640832180555, 6.739824809514622, 6.739009081013983, 6.738193646572598, 6.737378506084457, 6.736563659443597, 6.735749106544092, 6.734934847280047, 6.734120881545615, 6.7333072092349795, 6.732493830242369, 6.731680744462041, 6.730867951788299, 6.730055452115482, 6.729243245337968, 6.728431331350172, 6.727619710046544, 6.72680838132158, 6.725997345069804, 6.72518660118579, 6.7243761495641365, 6.723565990099492, 6.722756122686533, 6.721946547219984, 6.721137263594599, 6.720328271705174, 6.71951957144654, 6.718711162713571, 6.717903045401177, 6.7170952194043005, 6.716287684617928, 6.715480440937083, 6.714673488256824, 6.713866826472252, 6.713060455478498, 6.712254375170742, 6.711448585444189, 6.710643086194096, 6.709837877315745, 6.709032958704459, 6.708228330255604, 6.707423991864582, 6.706619943426828, 6.7058161848378175, 6.705012715993065, 6.704209536788122, 6.703406647118576, 6.7026040468800545, 6.701801735968222, 6.700999714278777, 6.700197981707461, 6.699396538150051, 6.6985953835023615, 6.697794517660242, 6.696993940519586, 6.696193651976316, 6.695393651926399, 6.694593940265836, 6.693794516890669, 6.692995381696971, 6.6921965345808605, 6.691397975438486, 6.690599704166038, 6.689801720659744, 6.689004024815868, 6.688206616530708, 6.687409495700609, 6.686612662221943, 6.685816115991127, 6.685019856904607, 6.684223884858875, 6.683428199750457, 6.682632801475913, 6.681837689931847, 6.681042865014892, 6.680248326621725, 6.67945407464906, 6.678660108993643, 6.677866429552262, 6.677073036221742, 6.67627992889894, 6.675487107480758, 6.674694571864129, 6.673902321946025, 6.673110357623457, 6.672318678793472, 6.671527285353154, 6.670736177199621, 6.669945354230031, 6.669154816341581, 6.668364563431504, 6.667574595397065, 6.666784912135576, 6.665995513544375, 6.665206399520843, 6.664417569962399, 6.663629024766498, 6.662840763830628, 6.6620527870523185, 6.661265094329135, 6.6604776855586785, 6.659690560638588, 6.658903719466538, 6.658117161940244, 6.657330887957454, 6.656544897415957, 6.65575919021357, 6.6549737662481565, 6.654188625417613, 6.653403767619876, 6.652619192752913, 6.651834900714731, 6.651050891403374, 6.650267164716924, 6.6494837205535, 6.648700558811252, 6.647917679388373, 6.647135082183091, 6.646352767093672, 6.645570734018413, 6.644788982855656, 6.64400751350377, 6.643226325861169, 6.642445419826301, 6.641664795297651, 6.640884452173739, 6.64010439035312, 6.639324609734389, 6.63854511021618, 6.637765891697156, 6.63698695407602, 6.636208297251517, 6.635429921122417, 6.6346518255875395, 6.633874010545728, 6.633096475895872, 6.6323192215368945, 6.631542247367752, 6.630765553287441, 6.629989139194993, 6.629213004989478, 6.628437150569997, 6.627661575835694, 6.626886280685745, 6.626111265019361, 6.625336528735797, 6.624562071734336, 6.623787893914302, 6.62301399517505, 6.62224037541598, 6.621467034536522, 6.620693972436141, 6.619921189014346, 6.61914868417067, 6.618376457804695, 6.617604509816033, 6.616832840104329, 6.616061448569272, 6.615290335110581, 6.614519499628012, 6.613748942021363, 6.612978662190457, 6.612208660035164, 6.611438935455384, 6.610669488351057, 6.609900318622155, 6.609131426168685, 6.608362810890697, 6.607594472688272, 6.606826411461528, 6.6060586271106185, 6.605291119535734, 6.6045238886370985, 6.603756934314975, 6.602990256469662, 6.602223855001493, 6.60145772981084, 6.600691880798103, 6.599926307863727, 6.599161010908194, 6.598395989832009, 6.597631244535724, 6.596866774919927, 6.596102580885233, 6.595338662332308, 6.5945750191618355, 6.593811651274548, 6.5930485585712075, 6.592285740952617, 6.591523198319608, 6.590760930573056, 6.589998937613865, 6.58923721934298, 6.588475775661378, 6.587714606470073, 6.586953711670117, 6.586193091162594, 6.585432744848624, 6.584672672629367, 6.583912874406012, 6.583153350079791, 6.582394099551964, 6.581635122723833, 6.580876419496732, 6.580117989772031, 6.579359833451138, 6.57860195043549, 6.577844340626569, 6.577087003925885, 6.576329940234989, 6.575573149455461, 6.574816631488921, 6.574060386237024, 6.573304413601462, 6.572548713483955, 6.571793285786271, 6.5710381304102015, 6.570283247257579, 6.569528636230272, 6.568774297230181, 6.568020230159245, 6.567266434919436, 6.566512911412764, 6.565759659541274, 6.565006679207041, 6.564253970312183, 6.563501532758849, 6.562749366449222, 6.561997471285527, 6.561245847170014, 6.560494494004975, 6.559743411692738, 6.558992600135664, 6.5582420592361474, 6.55749178889662, 6.5567417890195525, 6.555992059507441, 6.555242600262828, 6.55449341118828, 6.553744492186407, 6.552995843159855, 6.552247464011296, 6.551499354643446, 6.550751514959051, 6.550003944860892, 6.549256644251792, 6.548509613034598, 6.547762851112202, 6.547016358387523, 6.546270134763524, 6.545524180143194, 6.54477849442956, 6.544033077525687, 6.543287929334673, 6.542543049759649, 6.5417984387037835, 6.541054096070278, 6.54031002176237, 6.539566215683333, 6.538822677736474, 6.538079407825132, 6.5373364058526855, 6.536593671722549, 6.535851205338164, 6.5351090066030135, 6.534367075420616, 6.533625411694519, 6.532884015328312, 6.53214288622561, 6.531402024290073, 6.530661429425387, 6.529921101535276, 6.529181040523505, 6.528441246293864, 6.52770171875018, 6.526962457796321, 6.526223463336179, 6.525484735273691, 6.524746273512823, 6.524008077957576, 6.523270148511988, 6.522532485080127, 6.521795087566103, 6.5210579558740545, 6.520321089908154, 6.519584489572612, 6.518848154771673, 6.518112085409616, 6.517376281390749, 6.516640742619426, 6.5159054690000255, 6.5151704604369645, 6.5144357168346945, 6.513701238097697, 6.5129670241304956, 6.512233074837644, 6.511499390123728, 6.510765969893371, 6.5100328140512325, 6.509299922502002, 6.5085672951504066, 6.507834931901207, 6.507102832659194, 6.506370997329203, 6.505639425816092, 6.504908118024758, 6.504177073860139, 6.503446293227194, 6.502715776030928, 6.501985522176374, 6.5012555315685985, 6.5005258041127085, 6.499796339713842, 6.499067138277165, 6.498338199707886, 6.497609523911247, 6.496881110792518, 6.496152960257011, 6.495425072210064, 6.4946974465570575, 6.4939700832034, 6.493242982054537, 6.492516143015946, 6.491789565993138, 6.491063250891666, 6.490337197617104, 6.4896114060750705, 6.488885876171213, 6.488160607811216, 6.487435600900794, 6.486710855345702, 6.485986371051718, 6.485262147924671, 6.484538185870405, 6.483814484794808, 6.483091044603805, 6.482367865203345, 6.481644946499422, 6.480922288398056, 6.480199890805301, 6.4794777536272505, 6.478755876770027, 6.478034260139789, 6.477312903642726, 6.476591807185066, 6.475870970673068, 6.475150394013024, 6.474430077111259, 6.473710019874139, 6.472990222208053, 6.472270684019434, 6.471551405214738, 6.470832385700466, 6.470113625383141, 6.469395124169333, 6.468676881965636, 6.467958898678679, 6.4672411742151255, 6.466523708481677, 6.46580650138506, 6.465089552832042, 6.464372862729422, 6.463656430984029, 6.462940257502733, 6.462224342192429, 6.4615086849600525, 6.460793285712569, 6.460078144356979, 6.459363260800314, 6.458648634949643, 6.4579342667120665, 6.457220155994719, 6.4565063027047636, 6.4557927067494045, 6.455079368035876, 6.454366286471447, 6.453653461963415, 6.452940894419117, 6.452228583745923, 6.45151652985123, 6.4508047326424744, 6.4500931920271265, 6.449381907912685, 6.448670880206687, 6.447960108816701, 6.447249593650324, 6.446539334615192, 6.445829331618979, 6.445119584569381, 6.444410093374135, 6.443700857941005, 6.442991878177797, 6.442283153992346, 6.441574685292512, 6.440866471986203, 6.440158513981352, 6.4394508111859246, 6.438743363507922, 6.438036170855378, 6.437329233136357, 6.436622550258962, 6.435916122131324, 6.435209948661611, 6.4345040297580205, 6.433798365328786, 6.433092955282173, 6.432387799526477, 6.431682897970033, 6.430978250521203, 6.4302738570883875, 6.429569717580015, 6.42886583190455, 6.428162199970487, 6.4274588216863595, 6.426755696960727, 6.426052825702186, 6.425350207819365, 6.424647843220923, 6.423945731815561, 6.423243873512001, 6.422542268219002, 6.42184091584536, 6.421139816299901, 6.420438969491483]\n",
            "1500\n"
          ],
          "name": "stdout"
        }
      ]
    },
    {
      "cell_type": "code",
      "metadata": {
        "id": "CDGtpQA4_KCq",
        "colab": {
          "base_uri": "https://localhost:8080/",
          "height": 265
        },
        "outputId": "32482005-b983-47aa-aad0-b7397851aad1"
      },
      "source": [
        "# plot the linear fit\n",
        "plotData(X[:, 1], y)\n",
        "pyplot.plot(X[:, 1], np.dot(X, theta), '-')\n",
        "pyplot.legend(['Training data', 'Linear regression']);"
      ],
      "execution_count": 31,
      "outputs": [
        {
          "output_type": "display_data",
          "data": {
            "image/png": "[encoded data removed]",
            "text/plain": [
              "<Figure size 432x288 with 1 Axes>"
            ]
          },
          "metadata": {
            "tags": [],
            "needs_background": "light"
          }
        }
      ]
    },
    {
      "cell_type": "markdown",
      "metadata": {
        "id": "U9shyrD8_KCq"
      },
      "source": [
        "<h5>We will use your final parameters to plot the linear fit. The results should look like the following figure.</h5>\n",
        "<img src=\"https://i.ibb.co/FY8L2mn/graph-w3.png\">"
      ]
    },
    {
      "cell_type": "markdown",
      "metadata": {
        "id": "JmrCXl34_KCs"
      },
      "source": [
        "Your final values for $\\theta$ will also be used to make predictions on profits in areas of 35,000 and 70,000 people.\n",
        "\n",
        "<div class=\"alert alert-block alert-success\">\n",
        "Note the way that the following lines use matrix multiplication, rather than explicit summation or looping, to calculate the predictions. This is an example of code vectorization in `numpy`.\n",
        "</div>\n",
        "\n",
        "<div class=\"alert alert-block alert-success\">\n",
        "Note that the first argument to the `numpy` function `dot` is a python list. `numpy` can internally converts **valid** python lists to numpy arrays when explicitly provided as arguments to `numpy` functions.\n",
        "</div>\n"
      ]
    },
    {
      "cell_type": "code",
      "metadata": {
        "id": "jcMSJyvI_KCs",
        "colab": {
          "base_uri": "https://localhost:8080/"
        },
        "outputId": "408974ca-f66c-4b4a-88d8-413fa89b316e"
      },
      "source": [
        "# Now you can predict values for various population sizes.\n",
        "population_size = 13.5\n",
        "\n",
        "predict1 = np.dot([1, population_size], theta)\n",
        "print('For population = ' + str(population_size))\n",
        "print('we predict a profit of {:.2f}\\n'.format(predict1))"
      ],
      "execution_count": 32,
      "outputs": [
        {
          "output_type": "stream",
          "text": [
            "For population = 13.5\n",
            "we predict a profit of 10.56\n",
            "\n"
          ],
          "name": "stdout"
        }
      ]
    },
    {
      "cell_type": "code",
      "metadata": {
        "id": "ry_f-5rxDRoE",
        "colab": {
          "base_uri": "https://localhost:8080/"
        },
        "outputId": "20440cf4-1662-4892-aa2e-3eaa03ad48d2"
      },
      "source": [
        "# Now you can predict values for various population sizes.\n",
        "population_size = 8\n",
        "\n",
        "predict1 = np.dot([1, population_size], theta)\n",
        "print('For population = ' + str(population_size))\n",
        "print('we predict a profit of {:.2f}\\n'.format(predict1))"
      ],
      "execution_count": 33,
      "outputs": [
        {
          "output_type": "stream",
          "text": [
            "For population = 8\n",
            "we predict a profit of 6.56\n",
            "\n"
          ],
          "name": "stdout"
        }
      ]
    },
    {
      "cell_type": "code",
      "metadata": {
        "id": "9IkHup7oDRoE"
      },
      "source": [
        ""
      ],
      "execution_count": 20,
      "outputs": []
    }
  ]
}