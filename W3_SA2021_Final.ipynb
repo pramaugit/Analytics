{
  "nbformat": 4,
  "nbformat_minor": 0,
  "metadata": {
    "colab": {
      "name": "W3_SA2021_Final.ipynb",
      "provenance": [],
      "collapsed_sections": [],
      "include_colab_link": true
    },
    "kernelspec": {
      "display_name": "Python 3",
      "language": "python",
      "name": "python3"
    },
    "language_info": {
      "codemirror_mode": {
        "name": "ipython",
        "version": 3
      },
      "file_extension": ".py",
      "mimetype": "text/x-python",
      "name": "python",
      "nbconvert_exporter": "python",
      "pygments_lexer": "ipython3",
      "version": "3.8.5"
    }
  },
  "cells": [
    {
      "cell_type": "markdown",
      "metadata": {
        "id": "view-in-github",
        "colab_type": "text"
      },
      "source": [
        "<a href=\"https://colab.research.google.com/github/pramaugit/Analytics/blob/main/W3_SA2021_Final.ipynb\" target=\"_parent\"><img src=\"https://colab.research.google.com/assets/colab-badge.svg\" alt=\"Open In Colab\"/></a>"
      ]
    },
    {
      "cell_type": "markdown",
      "metadata": {
        "id": "XU2nvCxTvpar"
      },
      "source": [
        "<br>\n",
        "<h1 style = \"font-size:40px; font-family:monospace ; font-weight : bold; color : #3C0096; text-align: center; border-radius: 5px 25px;\">SA-2021 Week 3 Graded Assignment</h1>\n",
        "<br>"
      ]
    },
    {
      "cell_type": "code",
      "metadata": {
        "id": "2HC-at4mM6oo"
      },
      "source": [
        ""
      ],
      "execution_count": null,
      "outputs": []
    },
    {
      "cell_type": "code",
      "metadata": {
        "id": "w7B0dRPeM65u"
      },
      "source": [
        ""
      ],
      "execution_count": null,
      "outputs": []
    },
    {
      "cell_type": "markdown",
      "metadata": {
        "id": "vziCwtYSvpav"
      },
      "source": [
        "<br>\n",
        "<h1 style = \"font-size:30px; font-family:monospace ; font-weight : bold; color : #AE0052; text-align: center; border-radius: 10px 10px;\">☔Rain Prediction in Australia☔</h1>\n",
        "<br>"
      ]
    },
    {
      "cell_type": "markdown",
      "metadata": {
        "id": "qrhh_RHuvpav"
      },
      "source": [
        "![](https://media0.giphy.com/media/tkMeNtj9FQYx2/giphy.gif)"
      ]
    },
    {
      "cell_type": "markdown",
      "metadata": {
        "id": "mRQUWnirvpaw"
      },
      "source": [
        "<span style=\"font-size:20px;color:#0026D8;font-weight : bold\">Dataset Description:</span>\n",
        "\n",
        "**This dataset contains daily weather observations from numerous Australian weather stations.**\n",
        "- **Date** - The date of observation<br>\n",
        "- **Location** - The common name of the location of the weather station<br>\n",
        "- **MinTemp** - The minimum temperature in degrees celsius<br>\n",
        "- **MaxTemp** - The maximum temperature in degrees celsius<br>\n",
        "- **Rainfall** - The amount of rainfall recorded for the day in mm<br>\n",
        "- **Evaporation** - The so-called Class A pan evaporation (mm) in the 24 hours to 9am<br>\n",
        "- **Sunshine** - The number of hours of bright sunshine in the day.<br>\n",
        "- **WindGustDir** - The direction of the strongest wind gust in the 24 hours to midnight<br>\n",
        "- **WindGustSpeed** - The speed (km/h) of the strongest wind gust in the 24 hours to midnight<br>\n",
        "- **WindDir9am** - Direction of the wind at 9am<br>\n",
        "- **WindDir3pm** - Direction of the wind at 3pm<br>\n",
        "- **WindSpeed9am** - Wind speed (km/hr) averaged over 10 minutes prior to 9am<br>\n",
        "- **WindSpeed3pm** - Wind speed (km/hr) averaged over 10 minutes prior to 3pm<br>\n",
        "- **Humidity9am** - Humidity (percent) at 9am<br>\n",
        "- **Humidity3pm** - Humidity (percent) at 3pm<br>\n",
        "- **Pressure9am** - Atmospheric pressure (hpa) reduced to mean sea level at 9am<br>\n",
        "- **Pressure3pm** - Atmospheric pressure (hpa) reduced to mean sea level at 3pm<br>\n",
        "- **Cloud9am** - Fraction of sky obscured by cloud at 9am. This is measured in \"oktas\", which are a unit of                    eigths. It records how many eigths of the sky are obscured by cloud. A 0 measure indicates                    completely clear sky whilst an 8 indicates that it is completely overcast.<br>\n",
        "- **Cloud3pm** - Fraction of sky obscured by cloud (in \"oktas\": eighths) at 3pm. See Cload9am for a description                of the values<br>\n",
        "- **Temp9am** - Temperature (degrees C) at 9am<br>\n",
        "- **Temp3pm** - Temperature (degrees C) at 3pm<br>\n",
        "- **RainToday** - Boolean: 1 if precipitation (mm) in the 24 hours to 9am exceeds 1mm, otherwise 0<br>\n",
        "- **RainTomorrow** - The target variable. Will it rain tomorrow?"
      ]
    },
    {
      "cell_type": "markdown",
      "metadata": {
        "id": "rsH1_6fPvpaw"
      },
      "source": [
        "### It is highly recommended to read the documentation before implementing any alogorithm."
      ]
    },
    {
      "cell_type": "markdown",
      "metadata": {
        "id": "tEcIZ5qdvpax"
      },
      "source": [
        "- **Logistic Regression** : https://scikit-learn.org/stable/modules/generated/sklearn.linear_model.LogisticRegression.html <br>\n",
        "- **SVM** : https://scikit-learn.org/stable/modules/svm.html <br>\n",
        "- **Confusion Matrix** : https://scikit-learn.org/stable/modules/generated/sklearn.metrics.confusion_matrix.html <br>\n",
        "- **Plot Confusion Matrix** : https://scikit-learn.org/stable/modules/generated/sklearn.metrics.plot_confusion_matrix.html <br>\n",
        "- **ROC_AUC Score** : https://scikit-learn.org/stable/modules/generated/sklearn.metrics.roc_auc_score.html#sklearn.metrics.roc_auc_score <br>\n",
        "- **Classification Report** : https://scikit-learn.org/stable/modules/generated/sklearn.metrics.classification_report.html <br>\n",
        "- **Label Encoder** : https://scikit-learn.org/stable/modules/generated/sklearn.preprocessing.LabelEncoder.html <br>\n",
        "- **Label Binarizer** : https://scikit-learn.org/stable/modules/generated/sklearn.preprocessing.LabelBinarizer.html <br>\n",
        "- **Standard Scaler** : https://scikit-learn.org/stable/modules/generated/sklearn.preprocessing.StandardScaler.html <br>\n",
        "- **Cross Val Score** : https://scikit-learn.org/stable/modules/generated/sklearn.model_selection.cross_val_score.html <br>\n",
        "\n"
      ]
    },
    {
      "cell_type": "code",
      "metadata": {
        "colab": {
          "base_uri": "https://localhost:8080/",
          "height": 17
        },
        "id": "1_Q5m8Xmvpax",
        "outputId": "66c4548b-223d-4fca-d533-63bd1757fc07"
      },
      "source": [
        "## ======== Run this Cell as it is======== ##\n",
        "\n",
        "from IPython.display import HTML\n",
        "HTML(\"\"\"\n",
        "<style>\n",
        "h1,h2,h3 {\n",
        "\tmargin: 1em 0 0.5em 0;\n",
        "\tfont-weight: 600;\n",
        "\tfont-family: 'Titillium Web', sans-serif;\n",
        "\tposition: relative;  \n",
        "\tfont-size: 36px;\n",
        "\tline-height: 40px;\n",
        "\tpadding: 15px 15px 15px 2.5%;\n",
        "\tcolor: #13003A;\n",
        "\tbox-shadow: \n",
        "\t\tinset 0 0 0 1px rgba(53,86,129, 1), \n",
        "\t\tinset 0 0 5px rgba(53,86,129, 1),\n",
        "\t\tinset -285px 0 35px white;\n",
        "\tborder-radius: 0 10px 0 15px;\n",
        "\tbackground: #fff\n",
        "    \n",
        "}\n",
        "</style>\n",
        "\"\"\")\n",
        "\n",
        "\n",
        "## ================================ ##"
      ],
      "execution_count": null,
      "outputs": [
        {
          "output_type": "execute_result",
          "data": {
            "text/html": [
              "\n",
              "<style>\n",
              "h1,h2,h3 {\n",
              "\tmargin: 1em 0 0.5em 0;\n",
              "\tfont-weight: 600;\n",
              "\tfont-family: 'Titillium Web', sans-serif;\n",
              "\tposition: relative;  \n",
              "\tfont-size: 36px;\n",
              "\tline-height: 40px;\n",
              "\tpadding: 15px 15px 15px 2.5%;\n",
              "\tcolor: #13003A;\n",
              "\tbox-shadow: \n",
              "\t\tinset 0 0 0 1px rgba(53,86,129, 1), \n",
              "\t\tinset 0 0 5px rgba(53,86,129, 1),\n",
              "\t\tinset -285px 0 35px white;\n",
              "\tborder-radius: 0 10px 0 15px;\n",
              "\tbackground: #fff\n",
              "    \n",
              "}\n",
              "</style>\n"
            ],
            "text/plain": [
              "<IPython.core.display.HTML object>"
            ]
          },
          "metadata": {
            "tags": []
          },
          "execution_count": 98
        }
      ]
    },
    {
      "cell_type": "markdown",
      "metadata": {
        "id": "tQG2K5CQvpaz"
      },
      "source": [
        "<h1 style=\"background-color:#ABFF9B;font-size:20px;color:#00033E;font-weight : bold\">✅ Importing Required Libraries</h1>"
      ]
    },
    {
      "cell_type": "code",
      "metadata": {
        "id": "DHyUvB8tvpa0"
      },
      "source": [
        "## ======== YOUR CODE HERE ======== ##\n",
        "\n",
        "## Import numpy, pandas, matplotlib, seaborn\n",
        "\n",
        "import numpy as np\n",
        "import pandas as pd\n",
        "import matplotlib.pyplot as plt\n",
        "import seaborn as sns\n",
        "\n",
        "\n",
        "## Import Logistic regression and SVC\n",
        "from sklearn.linear_model import LogisticRegression\n",
        "from sklearn import svm\n",
        "from sklearn.svm import SVC\n",
        "from sklearn.svm import LinearSVC\n",
        "\n",
        "\n",
        "## Import Confusion matrix, plot confusion matrix, classification report, accuracy score, auc-roc score and roc curve\n",
        "from sklearn.metrics import confusion_matrix\n",
        "from sklearn.metrics import plot_confusion_matrix, ConfusionMatrixDisplay\n",
        "from sklearn.datasets import make_classification\n",
        "from sklearn.metrics import roc_auc_score\n",
        "from sklearn.metrics import roc_curve, auc\n",
        "from sklearn.metrics import classification_report\n",
        "from sklearn.metrics import precision_score\n",
        "from sklearn.metrics import recall_score\n",
        "from sklearn import preprocessing\n",
        "from sklearn.metrics import accuracy_score\n",
        "\n",
        "\n",
        "\n",
        "## Import Label encoder, label binarizer and Standard Scaler\n",
        "\n",
        "from sklearn.preprocessing import StandardScaler\n",
        "from sklearn.preprocessing import LabelBinarizer\n",
        "from sklearn.preprocessing import LabelBinarizer\n",
        "\n",
        "## ================================ ##\n",
        "\n",
        "from sklearn.model_selection import train_test_split\n",
        "from sklearn.model_selection import cross_val_score\n",
        "import warnings\n",
        "warnings.filterwarnings(\"ignore\")"
      ],
      "execution_count": null,
      "outputs": []
    },
    {
      "cell_type": "markdown",
      "metadata": {
        "id": "r-tHNg8qvpa0"
      },
      "source": [
        "<h1 style=\"background-color:#ABFF9B;font-size:20px;color:#00033E;font-weight : bold\">Read the data </h1>"
      ]
    },
    {
      "cell_type": "code",
      "metadata": {
        "id": "m-owrU7vvpa0"
      },
      "source": [
        "## ======== YOUR CODE HERE ======== ##\n",
        "\n",
        "rain = pd.read_csv(\"https://raw.githubusercontent.com/pramaugit/Analytics/main/SA2021_W3_Data.csv\")\n",
        "## ================================ ##"
      ],
      "execution_count": null,
      "outputs": []
    },
    {
      "cell_type": "code",
      "metadata": {
        "id": "uimn9CsuXsMg"
      },
      "source": [
        "rain = rain.drop(['Date'], axis=1)"
      ],
      "execution_count": null,
      "outputs": []
    },
    {
      "cell_type": "code",
      "metadata": {
        "colab": {
          "base_uri": "https://localhost:8080/"
        },
        "id": "mxownAh7vpa1",
        "outputId": "2a795db7-898e-4aad-e10a-8ad127830de2"
      },
      "source": [
        "## Check the shape of data. It should be (24196,23)\n",
        "\n",
        "## ======== YOUR CODE HERE ======== ##\n",
        "\n",
        "rain.shape\n",
        "## ================================ ##"
      ],
      "execution_count": null,
      "outputs": [
        {
          "output_type": "execute_result",
          "data": {
            "text/plain": [
              "(24196, 23)"
            ]
          },
          "metadata": {
            "tags": []
          },
          "execution_count": 101
        }
      ]
    },
    {
      "cell_type": "code",
      "metadata": {
        "colab": {
          "base_uri": "https://localhost:8080/",
          "height": 379
        },
        "id": "sMBhA4H3vpa1",
        "outputId": "9f505e5b-4c66-46dc-d06a-5b11f3baf9b3"
      },
      "source": [
        "## Apply describe on dataframe\n",
        "\n",
        "## ======== YOUR CODE HERE ======== ##\n",
        "rain.head(10)\n",
        "\n",
        "## ================================ ##"
      ],
      "execution_count": null,
      "outputs": [
        {
          "output_type": "execute_result",
          "data": {
            "text/html": [
              "<div>\n",
              "<style scoped>\n",
              "    .dataframe tbody tr th:only-of-type {\n",
              "        vertical-align: middle;\n",
              "    }\n",
              "\n",
              "    .dataframe tbody tr th {\n",
              "        vertical-align: top;\n",
              "    }\n",
              "\n",
              "    .dataframe thead th {\n",
              "        text-align: right;\n",
              "    }\n",
              "</style>\n",
              "<table border=\"1\" class=\"dataframe\">\n",
              "  <thead>\n",
              "    <tr style=\"text-align: right;\">\n",
              "      <th></th>\n",
              "      <th>Date</th>\n",
              "      <th>Location</th>\n",
              "      <th>MinTemp</th>\n",
              "      <th>MaxTemp</th>\n",
              "      <th>Rainfall</th>\n",
              "      <th>Evaporation</th>\n",
              "      <th>Sunshine</th>\n",
              "      <th>WindGustDir</th>\n",
              "      <th>WindGustSpeed</th>\n",
              "      <th>WindDir9am</th>\n",
              "      <th>WindDir3pm</th>\n",
              "      <th>WindSpeed9am</th>\n",
              "      <th>WindSpeed3pm</th>\n",
              "      <th>Humidity9am</th>\n",
              "      <th>Humidity3pm</th>\n",
              "      <th>Pressure9am</th>\n",
              "      <th>Pressure3pm</th>\n",
              "      <th>Cloud9am</th>\n",
              "      <th>Cloud3pm</th>\n",
              "      <th>Temp9am</th>\n",
              "      <th>Temp3pm</th>\n",
              "      <th>RainToday</th>\n",
              "      <th>RainTomorrow</th>\n",
              "    </tr>\n",
              "  </thead>\n",
              "  <tbody>\n",
              "    <tr>\n",
              "      <th>0</th>\n",
              "      <td>2856</td>\n",
              "      <td>11</td>\n",
              "      <td>18.3</td>\n",
              "      <td>35.4</td>\n",
              "      <td>0.0</td>\n",
              "      <td>10.7</td>\n",
              "      <td>8.2</td>\n",
              "      <td>15</td>\n",
              "      <td>31</td>\n",
              "      <td>0</td>\n",
              "      <td>6</td>\n",
              "      <td>17</td>\n",
              "      <td>9</td>\n",
              "      <td>17</td>\n",
              "      <td>14</td>\n",
              "      <td>1012.8</td>\n",
              "      <td>1010.7</td>\n",
              "      <td>3</td>\n",
              "      <td>7</td>\n",
              "      <td>26.3</td>\n",
              "      <td>34.0</td>\n",
              "      <td>0</td>\n",
              "      <td>1</td>\n",
              "    </tr>\n",
              "    <tr>\n",
              "      <th>1</th>\n",
              "      <td>575</td>\n",
              "      <td>0</td>\n",
              "      <td>12.0</td>\n",
              "      <td>21.1</td>\n",
              "      <td>0.0</td>\n",
              "      <td>2.4</td>\n",
              "      <td>4.9</td>\n",
              "      <td>11</td>\n",
              "      <td>22</td>\n",
              "      <td>15</td>\n",
              "      <td>10</td>\n",
              "      <td>9</td>\n",
              "      <td>9</td>\n",
              "      <td>70</td>\n",
              "      <td>60</td>\n",
              "      <td>1022.3</td>\n",
              "      <td>1020.2</td>\n",
              "      <td>2</td>\n",
              "      <td>7</td>\n",
              "      <td>16.2</td>\n",
              "      <td>19.4</td>\n",
              "      <td>0</td>\n",
              "      <td>0</td>\n",
              "    </tr>\n",
              "    <tr>\n",
              "      <th>2</th>\n",
              "      <td>2037</td>\n",
              "      <td>6</td>\n",
              "      <td>11.9</td>\n",
              "      <td>17.0</td>\n",
              "      <td>1.6</td>\n",
              "      <td>5.6</td>\n",
              "      <td>0.8</td>\n",
              "      <td>5</td>\n",
              "      <td>48</td>\n",
              "      <td>4</td>\n",
              "      <td>3</td>\n",
              "      <td>24</td>\n",
              "      <td>30</td>\n",
              "      <td>71</td>\n",
              "      <td>88</td>\n",
              "      <td>1008.4</td>\n",
              "      <td>1004.7</td>\n",
              "      <td>7</td>\n",
              "      <td>7</td>\n",
              "      <td>14.6</td>\n",
              "      <td>13.3</td>\n",
              "      <td>1</td>\n",
              "      <td>1</td>\n",
              "    </tr>\n",
              "    <tr>\n",
              "      <th>3</th>\n",
              "      <td>2010</td>\n",
              "      <td>19</td>\n",
              "      <td>1.3</td>\n",
              "      <td>10.2</td>\n",
              "      <td>4.2</td>\n",
              "      <td>2.6</td>\n",
              "      <td>4.4</td>\n",
              "      <td>15</td>\n",
              "      <td>33</td>\n",
              "      <td>15</td>\n",
              "      <td>13</td>\n",
              "      <td>15</td>\n",
              "      <td>17</td>\n",
              "      <td>87</td>\n",
              "      <td>64</td>\n",
              "      <td>1018.4</td>\n",
              "      <td>1016.8</td>\n",
              "      <td>7</td>\n",
              "      <td>7</td>\n",
              "      <td>3.8</td>\n",
              "      <td>8.5</td>\n",
              "      <td>1</td>\n",
              "      <td>0</td>\n",
              "    </tr>\n",
              "    <tr>\n",
              "      <th>4</th>\n",
              "      <td>2895</td>\n",
              "      <td>18</td>\n",
              "      <td>23.7</td>\n",
              "      <td>31.5</td>\n",
              "      <td>0.0</td>\n",
              "      <td>11.0</td>\n",
              "      <td>12.1</td>\n",
              "      <td>4</td>\n",
              "      <td>35</td>\n",
              "      <td>2</td>\n",
              "      <td>1</td>\n",
              "      <td>17</td>\n",
              "      <td>28</td>\n",
              "      <td>53</td>\n",
              "      <td>50</td>\n",
              "      <td>1014.2</td>\n",
              "      <td>1010.2</td>\n",
              "      <td>3</td>\n",
              "      <td>1</td>\n",
              "      <td>29.1</td>\n",
              "      <td>30.4</td>\n",
              "      <td>0</td>\n",
              "      <td>0</td>\n",
              "    </tr>\n",
              "    <tr>\n",
              "      <th>5</th>\n",
              "      <td>792</td>\n",
              "      <td>11</td>\n",
              "      <td>18.2</td>\n",
              "      <td>39.8</td>\n",
              "      <td>0.0</td>\n",
              "      <td>11.4</td>\n",
              "      <td>11.7</td>\n",
              "      <td>7</td>\n",
              "      <td>48</td>\n",
              "      <td>1</td>\n",
              "      <td>14</td>\n",
              "      <td>9</td>\n",
              "      <td>24</td>\n",
              "      <td>37</td>\n",
              "      <td>5</td>\n",
              "      <td>1009.8</td>\n",
              "      <td>1005.7</td>\n",
              "      <td>6</td>\n",
              "      <td>5</td>\n",
              "      <td>26.5</td>\n",
              "      <td>37.4</td>\n",
              "      <td>0</td>\n",
              "      <td>0</td>\n",
              "    </tr>\n",
              "    <tr>\n",
              "      <th>6</th>\n",
              "      <td>1217</td>\n",
              "      <td>1</td>\n",
              "      <td>23.9</td>\n",
              "      <td>31.4</td>\n",
              "      <td>2.6</td>\n",
              "      <td>6.8</td>\n",
              "      <td>8.1</td>\n",
              "      <td>3</td>\n",
              "      <td>30</td>\n",
              "      <td>0</td>\n",
              "      <td>3</td>\n",
              "      <td>2</td>\n",
              "      <td>17</td>\n",
              "      <td>72</td>\n",
              "      <td>67</td>\n",
              "      <td>1008.0</td>\n",
              "      <td>1004.7</td>\n",
              "      <td>3</td>\n",
              "      <td>3</td>\n",
              "      <td>28.9</td>\n",
              "      <td>30.7</td>\n",
              "      <td>1</td>\n",
              "      <td>0</td>\n",
              "    </tr>\n",
              "    <tr>\n",
              "      <th>7</th>\n",
              "      <td>3316</td>\n",
              "      <td>16</td>\n",
              "      <td>19.3</td>\n",
              "      <td>25.8</td>\n",
              "      <td>45.8</td>\n",
              "      <td>2.8</td>\n",
              "      <td>3.6</td>\n",
              "      <td>10</td>\n",
              "      <td>65</td>\n",
              "      <td>9</td>\n",
              "      <td>2</td>\n",
              "      <td>24</td>\n",
              "      <td>22</td>\n",
              "      <td>88</td>\n",
              "      <td>79</td>\n",
              "      <td>1022.9</td>\n",
              "      <td>1022.2</td>\n",
              "      <td>8</td>\n",
              "      <td>7</td>\n",
              "      <td>21.8</td>\n",
              "      <td>24.1</td>\n",
              "      <td>1</td>\n",
              "      <td>1</td>\n",
              "    </tr>\n",
              "    <tr>\n",
              "      <th>8</th>\n",
              "      <td>810</td>\n",
              "      <td>10</td>\n",
              "      <td>20.5</td>\n",
              "      <td>25.8</td>\n",
              "      <td>0.0</td>\n",
              "      <td>6.8</td>\n",
              "      <td>12.6</td>\n",
              "      <td>1</td>\n",
              "      <td>41</td>\n",
              "      <td>0</td>\n",
              "      <td>0</td>\n",
              "      <td>24</td>\n",
              "      <td>28</td>\n",
              "      <td>65</td>\n",
              "      <td>65</td>\n",
              "      <td>1020.7</td>\n",
              "      <td>1019.4</td>\n",
              "      <td>2</td>\n",
              "      <td>4</td>\n",
              "      <td>23.8</td>\n",
              "      <td>24.5</td>\n",
              "      <td>0</td>\n",
              "      <td>0</td>\n",
              "    </tr>\n",
              "    <tr>\n",
              "      <th>9</th>\n",
              "      <td>3155</td>\n",
              "      <td>13</td>\n",
              "      <td>15.2</td>\n",
              "      <td>18.7</td>\n",
              "      <td>7.4</td>\n",
              "      <td>5.4</td>\n",
              "      <td>1.9</td>\n",
              "      <td>15</td>\n",
              "      <td>59</td>\n",
              "      <td>6</td>\n",
              "      <td>14</td>\n",
              "      <td>15</td>\n",
              "      <td>33</td>\n",
              "      <td>91</td>\n",
              "      <td>69</td>\n",
              "      <td>1008.5</td>\n",
              "      <td>1008.8</td>\n",
              "      <td>7</td>\n",
              "      <td>8</td>\n",
              "      <td>16.3</td>\n",
              "      <td>17.4</td>\n",
              "      <td>1</td>\n",
              "      <td>1</td>\n",
              "    </tr>\n",
              "  </tbody>\n",
              "</table>\n",
              "</div>"
            ],
            "text/plain": [
              "   Date  Location  MinTemp  MaxTemp  ...  Temp9am  Temp3pm  RainToday  RainTomorrow\n",
              "0  2856        11     18.3     35.4  ...     26.3     34.0          0             1\n",
              "1   575         0     12.0     21.1  ...     16.2     19.4          0             0\n",
              "2  2037         6     11.9     17.0  ...     14.6     13.3          1             1\n",
              "3  2010        19      1.3     10.2  ...      3.8      8.5          1             0\n",
              "4  2895        18     23.7     31.5  ...     29.1     30.4          0             0\n",
              "5   792        11     18.2     39.8  ...     26.5     37.4          0             0\n",
              "6  1217         1     23.9     31.4  ...     28.9     30.7          1             0\n",
              "7  3316        16     19.3     25.8  ...     21.8     24.1          1             1\n",
              "8   810        10     20.5     25.8  ...     23.8     24.5          0             0\n",
              "9  3155        13     15.2     18.7  ...     16.3     17.4          1             1\n",
              "\n",
              "[10 rows x 23 columns]"
            ]
          },
          "metadata": {
            "tags": []
          },
          "execution_count": 102
        }
      ]
    },
    {
      "cell_type": "code",
      "metadata": {
        "colab": {
          "base_uri": "https://localhost:8080/"
        },
        "id": "ALGKv-m41hT6",
        "outputId": "f3a36e29-2f07-43d3-fdda-8b0f3833a636"
      },
      "source": [
        "rain.nunique()"
      ],
      "execution_count": null,
      "outputs": [
        {
          "output_type": "execute_result",
          "data": {
            "text/plain": [
              "Date             3293\n",
              "Location           23\n",
              "MinTemp           328\n",
              "MaxTemp           378\n",
              "Rainfall          359\n",
              "Evaporation       205\n",
              "Sunshine          144\n",
              "WindGustDir        16\n",
              "WindGustSpeed      58\n",
              "WindDir9am         16\n",
              "WindDir3pm         16\n",
              "WindSpeed9am       35\n",
              "WindSpeed3pm       36\n",
              "Humidity9am        98\n",
              "Humidity3pm       101\n",
              "Pressure9am       466\n",
              "Pressure3pm       463\n",
              "Cloud9am            9\n",
              "Cloud3pm           10\n",
              "Temp9am           356\n",
              "Temp3pm           379\n",
              "RainToday           2\n",
              "RainTomorrow        2\n",
              "dtype: int64"
            ]
          },
          "metadata": {
            "tags": []
          },
          "execution_count": 103
        }
      ]
    },
    {
      "cell_type": "code",
      "metadata": {
        "colab": {
          "base_uri": "https://localhost:8080/"
        },
        "id": "4b-7sRXAxTAY",
        "outputId": "5b874d6b-275a-4bf5-c36b-b70badf6e2ec"
      },
      "source": [
        "rain.describe"
      ],
      "execution_count": null,
      "outputs": [
        {
          "output_type": "execute_result",
          "data": {
            "text/plain": [
              "<bound method NDFrame.describe of        Location  MinTemp  MaxTemp  ...  Temp3pm  RainToday  RainTomorrow\n",
              "0            11     18.3     35.4  ...     34.0          0             1\n",
              "1             0     12.0     21.1  ...     19.4          0             0\n",
              "2             6     11.9     17.0  ...     13.3          1             1\n",
              "3            19      1.3     10.2  ...      8.5          1             0\n",
              "4            18     23.7     31.5  ...     30.4          0             0\n",
              "...         ...      ...      ...  ...      ...        ...           ...\n",
              "24191        16     20.8     24.4  ...     23.8          0             0\n",
              "24192        16     10.7     20.1  ...     18.7          0             0\n",
              "24193        17      9.5     21.6  ...     21.1          0             0\n",
              "24194        11      5.5      9.0  ...      7.8          0             1\n",
              "24195         8     19.5     31.8  ...     30.3          0             0\n",
              "\n",
              "[24196 rows x 22 columns]>"
            ]
          },
          "metadata": {
            "tags": []
          },
          "execution_count": 11
        }
      ]
    },
    {
      "cell_type": "code",
      "metadata": {
        "colab": {
          "base_uri": "https://localhost:8080/"
        },
        "id": "ooUz6e4oxZZn",
        "outputId": "08dce347-ee12-402a-88d8-25f6416e84c7"
      },
      "source": [
        "rain.info()"
      ],
      "execution_count": null,
      "outputs": [
        {
          "output_type": "stream",
          "text": [
            "<class 'pandas.core.frame.DataFrame'>\n",
            "RangeIndex: 24196 entries, 0 to 24195\n",
            "Data columns (total 23 columns):\n",
            " #   Column         Non-Null Count  Dtype  \n",
            "---  ------         --------------  -----  \n",
            " 0   Date           24196 non-null  int64  \n",
            " 1   Location       24196 non-null  int64  \n",
            " 2   MinTemp        24196 non-null  float64\n",
            " 3   MaxTemp        24196 non-null  float64\n",
            " 4   Rainfall       24196 non-null  float64\n",
            " 5   Evaporation    24196 non-null  float64\n",
            " 6   Sunshine       24196 non-null  float64\n",
            " 7   WindGustDir    24196 non-null  int64  \n",
            " 8   WindGustSpeed  24196 non-null  int64  \n",
            " 9   WindDir9am     24196 non-null  int64  \n",
            " 10  WindDir3pm     24196 non-null  int64  \n",
            " 11  WindSpeed9am   24196 non-null  int64  \n",
            " 12  WindSpeed3pm   24196 non-null  int64  \n",
            " 13  Humidity9am    24196 non-null  int64  \n",
            " 14  Humidity3pm    24196 non-null  int64  \n",
            " 15  Pressure9am    24196 non-null  float64\n",
            " 16  Pressure3pm    24196 non-null  float64\n",
            " 17  Cloud9am       24196 non-null  int64  \n",
            " 18  Cloud3pm       24196 non-null  int64  \n",
            " 19  Temp9am        24196 non-null  float64\n",
            " 20  Temp3pm        24196 non-null  float64\n",
            " 21  RainToday      24196 non-null  int64  \n",
            " 22  RainTomorrow   24196 non-null  int64  \n",
            "dtypes: float64(9), int64(14)\n",
            "memory usage: 4.2 MB\n"
          ],
          "name": "stdout"
        }
      ]
    },
    {
      "cell_type": "code",
      "metadata": {
        "colab": {
          "base_uri": "https://localhost:8080/"
        },
        "id": "d4yDWHBqxraf",
        "outputId": "ffb565b3-de65-4f93-f5fc-639195ca81fb"
      },
      "source": [
        "rain.isnull().sum()"
      ],
      "execution_count": null,
      "outputs": [
        {
          "output_type": "execute_result",
          "data": {
            "text/plain": [
              "Date             0\n",
              "Location         0\n",
              "MinTemp          0\n",
              "MaxTemp          0\n",
              "Rainfall         0\n",
              "Evaporation      0\n",
              "Sunshine         0\n",
              "WindGustDir      0\n",
              "WindGustSpeed    0\n",
              "WindDir9am       0\n",
              "WindDir3pm       0\n",
              "WindSpeed9am     0\n",
              "WindSpeed3pm     0\n",
              "Humidity9am      0\n",
              "Humidity3pm      0\n",
              "Pressure9am      0\n",
              "Pressure3pm      0\n",
              "Cloud9am         0\n",
              "Cloud3pm         0\n",
              "Temp9am          0\n",
              "Temp3pm          0\n",
              "RainToday        0\n",
              "RainTomorrow     0\n",
              "dtype: int64"
            ]
          },
          "metadata": {
            "tags": []
          },
          "execution_count": 105
        }
      ]
    },
    {
      "cell_type": "code",
      "metadata": {
        "colab": {
          "base_uri": "https://localhost:8080/"
        },
        "id": "BIfaXKxi2C25",
        "outputId": "553d31cc-7241-4560-ffd1-9d16557cc512"
      },
      "source": [
        "rain.isna().sum()"
      ],
      "execution_count": null,
      "outputs": [
        {
          "output_type": "execute_result",
          "data": {
            "text/plain": [
              "Date             0\n",
              "Location         0\n",
              "MinTemp          0\n",
              "MaxTemp          0\n",
              "Rainfall         0\n",
              "Evaporation      0\n",
              "Sunshine         0\n",
              "WindGustDir      0\n",
              "WindGustSpeed    0\n",
              "WindDir9am       0\n",
              "WindDir3pm       0\n",
              "WindSpeed9am     0\n",
              "WindSpeed3pm     0\n",
              "Humidity9am      0\n",
              "Humidity3pm      0\n",
              "Pressure9am      0\n",
              "Pressure3pm      0\n",
              "Cloud9am         0\n",
              "Cloud3pm         0\n",
              "Temp9am          0\n",
              "Temp3pm          0\n",
              "RainToday        0\n",
              "RainTomorrow     0\n",
              "dtype: int64"
            ]
          },
          "metadata": {
            "tags": []
          },
          "execution_count": 106
        }
      ]
    },
    {
      "cell_type": "code",
      "metadata": {
        "id": "CgD5xLUUQKM-"
      },
      "source": [
        "#rain['Location'].unique()"
      ],
      "execution_count": null,
      "outputs": []
    },
    {
      "cell_type": "markdown",
      "metadata": {
        "id": "0rh7Jr4tvpa1"
      },
      "source": [
        "<h1 style=\"background-color:#ABFF9B;font-size:20px;color:#00033E;font-weight : bold\">Check missing values in the dataset and fill them by any method</h1>"
      ]
    },
    {
      "cell_type": "code",
      "metadata": {
        "id": "4z466pWsvpa1",
        "colab": {
          "base_uri": "https://localhost:8080/"
        },
        "outputId": "1394462c-8c49-4db2-ea79-f07faedcd279"
      },
      "source": [
        "## Check if there any null value in the dataset.\n",
        "\n",
        "## ======== YOUR CODE HERE ======== ##\n",
        "\n",
        "rain.isna().sum()\n",
        "## ================================ ##"
      ],
      "execution_count": null,
      "outputs": [
        {
          "output_type": "execute_result",
          "data": {
            "text/plain": [
              "Date             0\n",
              "Location         0\n",
              "MinTemp          0\n",
              "MaxTemp          0\n",
              "Rainfall         0\n",
              "Evaporation      0\n",
              "Sunshine         0\n",
              "WindGustDir      0\n",
              "WindGustSpeed    0\n",
              "WindDir9am       0\n",
              "WindDir3pm       0\n",
              "WindSpeed9am     0\n",
              "WindSpeed3pm     0\n",
              "Humidity9am      0\n",
              "Humidity3pm      0\n",
              "Pressure9am      0\n",
              "Pressure3pm      0\n",
              "Cloud9am         0\n",
              "Cloud3pm         0\n",
              "Temp9am          0\n",
              "Temp3pm          0\n",
              "RainToday        0\n",
              "RainTomorrow     0\n",
              "dtype: int64"
            ]
          },
          "metadata": {
            "tags": []
          },
          "execution_count": 107
        }
      ]
    },
    {
      "cell_type": "code",
      "metadata": {
        "colab": {
          "base_uri": "https://localhost:8080/"
        },
        "id": "QhSWEKFJ-BP6",
        "outputId": "d57ed7d6-6f7b-4015-f4d0-31caa10c2eb3"
      },
      "source": [
        "rain['RainTomorrow'].value_counts()\n",
        "#rain['Location'].value_counts()"
      ],
      "execution_count": null,
      "outputs": [
        {
          "output_type": "execute_result",
          "data": {
            "text/plain": [
              "0    13213\n",
              "1    10983\n",
              "Name: RainTomorrow, dtype: int64"
            ]
          },
          "metadata": {
            "tags": []
          },
          "execution_count": 108
        }
      ]
    },
    {
      "cell_type": "code",
      "metadata": {
        "colab": {
          "base_uri": "https://localhost:8080/",
          "height": 296
        },
        "id": "y8O2ZRwYMBy5",
        "outputId": "4e1dedb4-fb96-416b-92ec-43907f81189d"
      },
      "source": [
        "sns.countplot(rain['RainTomorrow'])"
      ],
      "execution_count": null,
      "outputs": [
        {
          "output_type": "execute_result",
          "data": {
            "text/plain": [
              "<matplotlib.axes._subplots.AxesSubplot at 0x7fce20cda890>"
            ]
          },
          "metadata": {
            "tags": []
          },
          "execution_count": 17
        },
        {
          "output_type": "display_data",
          "data": {
            "image/png": "[encoded data removed]",
            "text/plain": [
              "<Figure size 432x288 with 1 Axes>"
            ]
          },
          "metadata": {
            "tags": [],
            "needs_background": "light"
          }
        }
      ]
    },
    {
      "cell_type": "code",
      "metadata": {
        "id": "LcfbJTZnXuSX",
        "colab": {
          "base_uri": "https://localhost:8080/"
        },
        "outputId": "0c05a1aa-7992-41fe-c348-698ec6fbb8d8"
      },
      "source": [
        "cor_rel = rain.corr()\n",
        "cor_rel['RainTomorrow'].sort_values(ascending=False)"
      ],
      "execution_count": null,
      "outputs": [
        {
          "output_type": "execute_result",
          "data": {
            "text/plain": [
              "RainTomorrow     1.000000\n",
              "Humidity3pm      0.515069\n",
              "Cloud3pm         0.467834\n",
              "Cloud9am         0.391002\n",
              "RainToday        0.327737\n",
              "Humidity9am      0.312784\n",
              "WindGustSpeed    0.262160\n",
              "Rainfall         0.236725\n",
              "WindSpeed9am     0.109222\n",
              "WindSpeed3pm     0.107977\n",
              "MinTemp          0.095704\n",
              "WindGustDir      0.059915\n",
              "WindDir9am       0.029069\n",
              "WindDir3pm       0.017630\n",
              "Date            -0.007252\n",
              "Temp9am         -0.032797\n",
              "Location        -0.037443\n",
              "Evaporation     -0.153552\n",
              "MaxTemp         -0.194512\n",
              "Temp3pm         -0.238433\n",
              "Pressure3pm     -0.260473\n",
              "Pressure9am     -0.286458\n",
              "Sunshine        -0.516100\n",
              "Name: RainTomorrow, dtype: float64"
            ]
          },
          "metadata": {
            "tags": []
          },
          "execution_count": 109
        }
      ]
    },
    {
      "cell_type": "markdown",
      "metadata": {
        "id": "c-BNxcmrvpa2"
      },
      "source": [
        "<h1 style=\"background-color:#ABFF9B;font-size:20px;color:#00033E;font-weight : bold\">Use Feature Encoding :</h1>"
      ]
    },
    {
      "cell_type": "code",
      "metadata": {
        "id": "FZmvqTMxvpa2"
      },
      "source": [
        "## ======== YOUR CODE HERE ======== ##\n",
        "\n",
        "## Use one hot encoding on dataframe\n",
        "\n",
        "\n",
        "# since all features are already into non categorical format, we dont apply the label encoder function as they have already been labelled and\n",
        "# secondly as they are already labelled as per category , we dont need to do hot encoding to create separate label orders/ranks. It is already pre-built in the data.\n",
        "# The excercice might have become more tough if we first havd to do the label classification and then do the hot encoding. \n",
        "\n",
        "\n",
        "\n",
        "\n",
        "## ================================ ##\n"
      ],
      "execution_count": null,
      "outputs": []
    },
    {
      "cell_type": "markdown",
      "metadata": {
        "id": "pm9NZc9Bvpa2"
      },
      "source": [
        "<h1 style=\"background-color:#ABFF9B;font-size:20px;color:#00033E;font-weight : bold\">Split the data into train and test.</h1>"
      ]
    },
    {
      "cell_type": "code",
      "metadata": {
        "id": "ENos_-58vpa2",
        "colab": {
          "base_uri": "https://localhost:8080/"
        },
        "outputId": "3ab7e108-596b-42b3-bd27-4204842cfd9a"
      },
      "source": [
        "## ======== YOUR CODE HERE ======== ##\n",
        " \n",
        "## Test size should be 25% of the full dataset and use random state = 2021\n",
        "X = rain.drop('RainTomorrow', axis=1)\n",
        "y = rain['RainTomorrow']\n",
        "train_X, test_X, train_y, test_y = train_test_split(X, y, test_size = 0.25, random_state=2021)\n",
        "print(X.shape)\n",
        "print(y.shape)\n",
        "print(train_X.shape)\n",
        "print(train_y.shape)\n",
        "print(test_X.shape)\n",
        "print(test_y.shape)\n",
        "\n",
        "## ================================ ##"
      ],
      "execution_count": null,
      "outputs": [
        {
          "output_type": "stream",
          "text": [
            "(24196, 22)\n",
            "(24196,)\n",
            "(18147, 22)\n",
            "(18147,)\n",
            "(6049, 22)\n",
            "(6049,)\n"
          ],
          "name": "stdout"
        }
      ]
    },
    {
      "cell_type": "code",
      "metadata": {
        "id": "9z0dhowPvpa2",
        "colab": {
          "base_uri": "https://localhost:8080/"
        },
        "outputId": "db44e133-7f61-47eb-ad6f-4cb7e502c5c9"
      },
      "source": [
        "## ======== YOUR CODE HERE ======== ##\n",
        "\n",
        "   ## Let us print the shapes:\n",
        "    \n",
        "print(\"X_train:\", train_X.shape) # X_train\n",
        "print(\"X_test:\", test_X.shape) # X_test\n",
        "print(\"y_train:\", train_y.shape) # y_train\n",
        "print(\"y_test:\", test_y.shape) # y_test\n",
        "\n",
        "## ================================ ##"
      ],
      "execution_count": null,
      "outputs": [
        {
          "output_type": "stream",
          "text": [
            "X_train: (18147, 22)\n",
            "X_test: (6049, 22)\n",
            "y_train: (18147,)\n",
            "y_test: (6049,)\n"
          ],
          "name": "stdout"
        }
      ]
    },
    {
      "cell_type": "markdown",
      "metadata": {
        "id": "qgbT2Gqdvpa3"
      },
      "source": [
        "<h1 style=\"background-color:#ABFF9B;font-size:20px;color:#00033E;font-weight : bold\">Scale the data using Standard Scaler :</h1>"
      ]
    },
    {
      "cell_type": "code",
      "metadata": {
        "id": "3n7PsXYnvpa3",
        "colab": {
          "base_uri": "https://localhost:8080/"
        },
        "outputId": "555e5ba2-b4a9-44f8-babc-61edce26a645"
      },
      "source": [
        "## Use Standard Scaler to scale the train and test data\n",
        "\n",
        "## ======== YOUR CODE HERE ======== ##\n",
        "\n",
        "sc = StandardScaler()\n",
        "train_X = sc.fit_transform(train_X)\n",
        "test_X = sc.transform(test_X)\n",
        "print(train_X[:5])\n",
        "\n",
        "\n",
        "\n",
        "\n",
        "\n",
        "\n",
        "\n",
        "## ================================ ##"
      ],
      "execution_count": null,
      "outputs": [
        {
          "output_type": "stream",
          "text": [
            "[[-0.55757018 -0.48803667 -1.16678017 -0.77057773 -0.35742704  0.07620074\n",
            "   0.50262342  0.89115591  0.66890746  1.65963663  1.54063881  1.36030634\n",
            "   1.40846514 -0.93150301 -0.82826396 -0.06341019 -0.09904339 -1.37641579\n",
            "  -0.35705854 -0.74867478 -0.66082871 -0.64692358]\n",
            " [-0.91006699  1.69957793 -0.60951092 -0.63598142 -0.35742704 -0.48755769\n",
            "  -0.7091819  -0.77808415 -1.01007089 -1.14823302 -0.7824693  -0.36047972\n",
            "  -0.59020336  0.36536402 -0.58931507  2.34122695  2.45895179  0.0835709\n",
            "   0.80442712 -0.78092827 -0.53857242 -0.64692358]\n",
            " [ 0.04705146  1.38706156 -1.42902452 -1.54824529  0.87966959 -0.374806\n",
            "   0.32590181  1.09981092  1.8581838   1.22765668  1.32944716  0.67199191\n",
            "   0.18705661 -0.6495754   1.17890666 -1.23710213 -0.44786092 -1.37641579\n",
            "   0.80442712 -1.39374454 -1.99036589  1.54577762]\n",
            " [-0.93754979  1.23080337 -0.19975412 -0.87526375  2.02160494 -0.374806\n",
            "  -1.06262512 -0.36077413 -0.52036887 -0.71625308 -0.99366094 -0.58991787\n",
            "  -0.1460548   1.43668897  1.32227599 -1.53768177 -1.68325631  0.81356425\n",
            "   0.80442712 -0.8293085  -1.2415461   1.54577762]\n",
            " [-1.35696125  0.44951245 -1.52736615 -1.77257247 -0.35742704 -0.99494028\n",
            "  -1.08787106 -0.98673915  0.10924801 -0.93224305 -0.99366094 -0.13104158\n",
            "  -0.81227763  0.59090612  0.65321912  0.1942295  -0.01183901  0.81356425\n",
            "   0.80442712 -1.97430733 -1.70000719 -0.64692358]]\n"
          ],
          "name": "stdout"
        }
      ]
    },
    {
      "cell_type": "markdown",
      "metadata": {
        "id": "IY8VC5sBvpa3"
      },
      "source": [
        "<h1 style=\"background-color:#ABFF9B;font-size:20px;color:#00033E;font-weight : bold\">Train a Logistic Regression with all default parameters</h1>"
      ]
    },
    {
      "cell_type": "code",
      "metadata": {
        "id": "8vZV0RUhvpa3",
        "colab": {
          "base_uri": "https://localhost:8080/"
        },
        "outputId": "a76dc4ba-10c1-4e07-e3d5-767c114aeebd"
      },
      "source": [
        "## Use Random state = 2021 and fit the LR model\n",
        "\n",
        "## ======== YOUR CODE HERE ======== ##\n",
        "log_reg = LogisticRegression(random_state=2021).fit(train_X,train_y)\n",
        "predicted_rain_reg = log_reg.predict(test_X)\n",
        "log_reg.score(test_X, test_y)\n",
        "#log_reg.score(train_X, train_y)\n",
        "\n",
        "\n",
        "\n",
        "\n",
        "## ================================ ##"
      ],
      "execution_count": null,
      "outputs": [
        {
          "output_type": "execute_result",
          "data": {
            "text/plain": [
              "0.7969912382211936"
            ]
          },
          "metadata": {
            "tags": []
          },
          "execution_count": 114
        }
      ]
    },
    {
      "cell_type": "markdown",
      "metadata": {
        "id": "bnmjHAupvpa4"
      },
      "source": [
        "<h1 style=\"background-color:#ABFF9B;font-size:20px;color:#00033E;font-weight : bold\">Plot Confusion Matrix using plot_confusion_matrix module :</h1>"
      ]
    },
    {
      "cell_type": "code",
      "metadata": {
        "id": "E1SXfdSUvpa4",
        "colab": {
          "base_uri": "https://localhost:8080/",
          "height": 385
        },
        "outputId": "8dee68f1-9de8-4dfd-a0c7-d36d1fe11aff"
      },
      "source": [
        "## ======== YOUR CODE HERE ======== ##\n",
        "\n",
        "## Use display labels as per your choice.\n",
        "\n",
        "cm = confusion_matrix(test_y, predicted_rain_reg, labels=log_reg.classes_)\n",
        "print(cm)\n",
        "disp = ConfusionMatrixDisplay(confusion_matrix=cm, display_labels=log_reg.classes_)\n",
        "disp.plot()\n",
        "print(precision_score(test_y, predicted_rain_reg))\n",
        "print(recall_score(test_y, predicted_rain_reg))\n",
        "precision = (549)/(2070+549)\n",
        "print(precision)\n",
        "print(2751+549+679+2070)\n",
        "\n",
        "\n",
        "\n",
        "## ================================ ##"
      ],
      "execution_count": null,
      "outputs": [
        {
          "output_type": "stream",
          "text": [
            "[[2751  549]\n",
            " [ 679 2070]]\n",
            "0.7903780068728522\n",
            "0.7530010913059294\n",
            "0.20962199312714777\n",
            "6049\n"
          ],
          "name": "stdout"
        },
        {
          "output_type": "display_data",
          "data": {
            "image/png": "[encoded data removed]",
            "text/plain": [
              "<Figure size 432x288 with 2 Axes>"
            ]
          },
          "metadata": {
            "tags": [],
            "needs_background": "light"
          }
        }
      ]
    },
    {
      "cell_type": "markdown",
      "metadata": {
        "id": "pgN165X7vpa4"
      },
      "source": [
        "<h1 style=\"background-color:#ABFF9B;font-size:20px;color:#00033E;font-weight : bold\">Print out Classification Report for LR :</h1>"
      ]
    },
    {
      "cell_type": "code",
      "metadata": {
        "colab": {
          "base_uri": "https://localhost:8080/"
        },
        "id": "FzcnzDD9vpa4",
        "outputId": "c115656b-b831-4dec-c41f-d345d6f2de1c"
      },
      "source": [
        "## ======== YOUR CODE HERE ======== ##\n",
        "\n",
        "\n",
        "print(classification_report(test_y, predicted_rain_reg))\n",
        "\n",
        "\n",
        "\n",
        "\n",
        "## ================================ ##\n"
      ],
      "execution_count": null,
      "outputs": [
        {
          "output_type": "stream",
          "text": [
            "              precision    recall  f1-score   support\n",
            "\n",
            "           0       0.80      0.83      0.82      3300\n",
            "           1       0.79      0.75      0.77      2749\n",
            "\n",
            "    accuracy                           0.80      6049\n",
            "   macro avg       0.80      0.79      0.79      6049\n",
            "weighted avg       0.80      0.80      0.80      6049\n",
            "\n"
          ],
          "name": "stdout"
        }
      ]
    },
    {
      "cell_type": "markdown",
      "metadata": {
        "id": "Xle8Hr2vvpa4"
      },
      "source": [
        "<h1 style=\"background-color:#ABFF9B;font-size:20px;color:#00033E;font-weight : bold\">Print Training and Testing Score along with Accuracy score for LR :</h1> "
      ]
    },
    {
      "cell_type": "code",
      "metadata": {
        "colab": {
          "base_uri": "https://localhost:8080/"
        },
        "id": "ND1kWpJMvpa5",
        "outputId": "7c57b779-c7bc-4a87-cb6f-c692ed1d8120"
      },
      "source": [
        "## ======== YOUR CODE HERE ======== ##\n",
        "\n",
        "accuracy_lr_model = accuracy_score(test_y, predicted_rain_reg)\n",
        "print(\"Accuracy Score Logistic Regression:\", accuracy_lr_model)\n",
        "print(\"Training Data Accuracy score:\", log_reg.score(train_X, train_y))\n",
        "print(\"Test Data Accuracy Score:\", log_reg.score(test_X, test_y))\n",
        "\n",
        "\n",
        "\n",
        "\n",
        "\n",
        "\n",
        "## ================================ ##"
      ],
      "execution_count": null,
      "outputs": [
        {
          "output_type": "stream",
          "text": [
            "Accuracy Score Logistic Regression: 0.7969912382211936\n",
            "Training Data Accuracy score: 0.7989199316691464\n",
            "Test Data Accuracy Score: 0.7969912382211936\n"
          ],
          "name": "stdout"
        }
      ]
    },
    {
      "cell_type": "code",
      "metadata": {
        "colab": {
          "base_uri": "https://localhost:8080/"
        },
        "id": "jm3sW4ZTvpa5",
        "outputId": "0305489f-caf0-45c5-ea88-6e7dad4be0c6"
      },
      "source": [
        "## ======== YOUR CODE HERE ======== ##\n",
        "\n",
        "## Print Accuracy Score for LR\n",
        "print(\"Accuracy Score Logistic Regression:\", accuracy_lr_model)\n",
        "\n",
        "## ================================ ##"
      ],
      "execution_count": null,
      "outputs": [
        {
          "output_type": "stream",
          "text": [
            "Accuracy Score Logistic Regression: 0.7969912382211936\n"
          ],
          "name": "stdout"
        }
      ]
    },
    {
      "cell_type": "markdown",
      "metadata": {
        "id": "T16gbfRQvpa5"
      },
      "source": [
        "<h1 style=\"background-color:#ABFF9B;font-size:20px;color:#00033E;font-weight : bold\">Print ROC - AUC Score for LR :</h1> "
      ]
    },
    {
      "cell_type": "code",
      "metadata": {
        "colab": {
          "base_uri": "https://localhost:8080/"
        },
        "id": "IV0ubSL9vpa5",
        "outputId": "10435966-b368-405f-b325-ae90c8f3b643"
      },
      "source": [
        "## ======== YOUR CODE HERE ======== ##\n",
        "\n",
        "log_reg_roc_auc = LogisticRegression(solver=\"liblinear\").fit(X,y)\n",
        "print(roc_auc_score(y, log_reg_roc_auc.decision_function(X)))\n",
        "\n",
        "roc_auc_lr_model = roc_auc_score(test_y, predicted_rain_reg)\n",
        "print(roc_auc_lr_model)\n",
        "\n",
        "\n",
        "## ================================ ##"
      ],
      "execution_count": null,
      "outputs": [
        {
          "output_type": "stream",
          "text": [
            "0.8786728867747344\n",
            "0.7933187274711465\n"
          ],
          "name": "stdout"
        }
      ]
    },
    {
      "cell_type": "markdown",
      "metadata": {
        "id": "og34rzbSvpa5"
      },
      "source": [
        "<h1 style=\"background-color:#ABFF9B;font-size:20px;color:#00033E;font-weight : bold\">Train SVM with C = 50 and gamma = scale :</h1>"
      ]
    },
    {
      "cell_type": "code",
      "metadata": {
        "id": "_fw1j2cxvpa5"
      },
      "source": [
        "## ======== YOUR CODE HERE ======== ##\n",
        "\n",
        "## Set probability = True \n",
        "#X = rain.drop('RainTomorrow', axis=1)\n",
        "#y = rain['RainTomorrow']\n",
        "#train_X, test_X, train_y, test_y = train_test_split(X, y, test_size = 0.25, random_state=2021)\n",
        "#sc = StandardScaler()\n",
        "train_X = sc.fit_transform(train_X)\n",
        "test_X = sc.transform(test_X)\n",
        "model_svm = svm.SVC(C=50, gamma ='scale', probability=True, random_state=2021)\n",
        "model_svm.fit(train_X, train_y)\n",
        "predicted_rain_svm = model_svm.predict(test_X)\n",
        "\n",
        "\n",
        "\n",
        "## ================================ ##"
      ],
      "execution_count": null,
      "outputs": []
    },
    {
      "cell_type": "markdown",
      "metadata": {
        "id": "y8VRDRHXvpa6"
      },
      "source": [
        "<h1 style=\"background-color:#ABFF9B;font-size:20px;color:#00033E;font-weight : bold\">Plot Confusion Matrix for SVM :</h1>"
      ]
    },
    {
      "cell_type": "code",
      "metadata": {
        "id": "1TTVlekPvpa6",
        "colab": {
          "base_uri": "https://localhost:8080/"
        },
        "outputId": "5c360465-0aa9-4444-e538-b68be563425b"
      },
      "source": [
        "## ======== YOUR CODE HERE ======== ##\n",
        "\n",
        "## Use display labels as per your choice.\n",
        "\n",
        "\n",
        "print(confusion_matrix(test_y, predicted_rain_svm))\n",
        "\n",
        "\n",
        "## ================================ ##\n"
      ],
      "execution_count": null,
      "outputs": [
        {
          "output_type": "stream",
          "text": [
            "[[2661  639]\n",
            " [ 671 2078]]\n"
          ],
          "name": "stdout"
        }
      ]
    },
    {
      "cell_type": "markdown",
      "metadata": {
        "id": "TNWvmLSivpa6"
      },
      "source": [
        "<h1 style=\"background-color:#ABFF9B;font-size:20px;color:#00033E;font-weight : bold\">Print out Classification Report for SVM :</h1>"
      ]
    },
    {
      "cell_type": "code",
      "metadata": {
        "id": "yQDf6wOdvpa6",
        "colab": {
          "base_uri": "https://localhost:8080/"
        },
        "outputId": "84f13170-f624-47e2-ac7a-cd651d8ed0f8"
      },
      "source": [
        "## ======== YOUR CODE HERE ======== ##\n",
        "\n",
        "print(classification_report(test_y, predicted_rain_svm))\n",
        "\n",
        "\n",
        "\n",
        "\n",
        "## ================================ ##"
      ],
      "execution_count": null,
      "outputs": [
        {
          "output_type": "stream",
          "text": [
            "              precision    recall  f1-score   support\n",
            "\n",
            "           0       0.80      0.81      0.80      3300\n",
            "           1       0.76      0.76      0.76      2749\n",
            "\n",
            "    accuracy                           0.78      6049\n",
            "   macro avg       0.78      0.78      0.78      6049\n",
            "weighted avg       0.78      0.78      0.78      6049\n",
            "\n"
          ],
          "name": "stdout"
        }
      ]
    },
    {
      "cell_type": "markdown",
      "metadata": {
        "id": "SfF49qwIvpa7"
      },
      "source": [
        "<h1 style=\"background-color:#ABFF9B;font-size:20px;color:#00033E;font-weight : bold\">Print out Accuracy score for SVM :</h1>"
      ]
    },
    {
      "cell_type": "code",
      "metadata": {
        "id": "lH1lkfsFvpa7",
        "colab": {
          "base_uri": "https://localhost:8080/"
        },
        "outputId": "b1ba195e-f5b6-487d-8229-a2a07de8a67b"
      },
      "source": [
        "## ======== YOUR CODE HERE ======== ##\n",
        "\n",
        "accuracy_svm_model = accuracy_score(test_y, predicted_rain_svm)\n",
        "print(\"Accuracy Score SVM Model:\", accuracy_svm_model)\n",
        "\n",
        "\n",
        "## ================================ ##"
      ],
      "execution_count": null,
      "outputs": [
        {
          "output_type": "stream",
          "text": [
            "Accuracy Score SVM Model: 0.7834352785584394\n"
          ],
          "name": "stdout"
        }
      ]
    },
    {
      "cell_type": "markdown",
      "metadata": {
        "id": "0tlgy05Jvpa7"
      },
      "source": [
        "<h1 style=\"background-color:#ABFF9B;font-size:20px;color:#00033E;font-weight : bold\">Print Training and Testing Score for SVM :</h1> "
      ]
    },
    {
      "cell_type": "code",
      "metadata": {
        "id": "yqofS78Xvpa7",
        "colab": {
          "base_uri": "https://localhost:8080/"
        },
        "outputId": "523f9753-5ff3-4bcf-9e01-9c884f89f24f"
      },
      "source": [
        "## ======== YOUR CODE HERE ======== ##\n",
        "\n",
        "\n",
        "print(\"Training Data SVM Model score:\", model_svm.score(train_X, train_y))\n",
        "print(\"Test Data SVM Model Score:\", model_svm.score(test_X, test_y))\n",
        "\n",
        "\n",
        "\n",
        "## ================================ ##"
      ],
      "execution_count": null,
      "outputs": [
        {
          "output_type": "stream",
          "text": [
            "Training Data SVM Model score: 0.9291342921695046\n",
            "Test Data SVM Model Score: 0.7834352785584394\n"
          ],
          "name": "stdout"
        }
      ]
    },
    {
      "cell_type": "markdown",
      "metadata": {
        "id": "Ti_PCgHpvpa7"
      },
      "source": [
        "<h1 style=\"background-color:#ABFF9B;font-size:20px;color:#00033E;font-weight : bold\">Plot ROC curve and calculate ROC - AUC score for SVM :</h1> "
      ]
    },
    {
      "cell_type": "code",
      "metadata": {
        "id": "iml9q7hrvpa8",
        "colab": {
          "base_uri": "https://localhost:8080/",
          "height": 457
        },
        "outputId": "81957336-aab2-474c-dbc9-29552a948995"
      },
      "source": [
        "## ======== YOUR CODE HERE ======== ##\n",
        "\n",
        "## Set appropriate X label, Y label and Title for the graph\n",
        "\n",
        "y_pred_svm = model_svm.decision_function(test_X) \n",
        "svm_fpr, svm_tpr, threshold = roc_curve(test_y, predicted_rain_svm)\n",
        "auc_svm = auc(svm_fpr, svm_tpr)\n",
        "\n",
        "plt.figure(figsize=(5,5), dpi=100)\n",
        "plt.plot(svm_fpr, svm_tpr, linestyle='-', label='SVM (auc = %0.3f)' % auc_svm)\n",
        "plt.xlabel('False Positive Rate')\n",
        "plt.ylabel('True Positive Rate')\n",
        "\n",
        "plt.legend()\n",
        "plt.show()\n",
        "\n",
        "\n",
        "## ================================ ##"
      ],
      "execution_count": null,
      "outputs": [
        {
          "output_type": "display_data",
          "data": {
            "image/png": "[encoded data removed]",
            "text/plain": [
              "<Figure size 500x500 with 1 Axes>"
            ]
          },
          "metadata": {
            "tags": [],
            "needs_background": "light"
          }
        }
      ]
    },
    {
      "cell_type": "code",
      "metadata": {
        "id": "T_ninnLwvpa8",
        "colab": {
          "base_uri": "https://localhost:8080/"
        },
        "outputId": "311307cf-6001-4945-9b41-928ca6ce749d"
      },
      "source": [
        "## ======== YOUR CODE HERE ======== ##\n",
        "\n",
        "## Print out ROC score for SVM\n",
        "\n",
        "roc_auc_svm_model = roc_auc_score(test_y, predicted_rain_svm)\n",
        "print(roc_auc_svm_model)\n",
        "\n",
        "\n",
        "## ================================ ##"
      ],
      "execution_count": null,
      "outputs": [
        {
          "output_type": "stream",
          "text": [
            "0.7811374384073547\n"
          ],
          "name": "stdout"
        }
      ]
    },
    {
      "cell_type": "markdown",
      "metadata": {
        "id": "YmpeyKWWvpa8"
      },
      "source": [
        "<h1 style=\"background-color:#ABFF9B;font-size:20px;color:#00033E;font-weight : bold\">Train SVM with C = 1 and gamma = scale :</h1> "
      ]
    },
    {
      "cell_type": "code",
      "metadata": {
        "id": "z9mfbGb9vpa8"
      },
      "source": [
        "## ======== YOUR CODE HERE ======== ##\n",
        "\n",
        "## Train SVM with new mentioned parameters\n",
        "\n",
        "model_svm_new = svm.SVC(kernel='rbf', C=1, gamma='scale')\n",
        "model_svm_new.fit(train_X, train_y)\n",
        "predicted_rain_svm_new = model_svm_new.predict(test_X)\n",
        "\n",
        "## ================================ ##"
      ],
      "execution_count": null,
      "outputs": []
    },
    {
      "cell_type": "code",
      "metadata": {
        "id": "F5zH-tDhupM3"
      },
      "source": [
        "#LinearSVC\n",
        "#model_svm_linearsvc = svm.LinearSVC(C=1)\n",
        "#model_svm_linearsvc.fit(train_X, train_y)\n",
        "#predicted_rain_svm_linearsvc = model_svm_linearsvc.predict(test_X)\n",
        "\n"
      ],
      "execution_count": null,
      "outputs": []
    },
    {
      "cell_type": "code",
      "metadata": {
        "id": "a2Gqfy6FyMIH"
      },
      "source": [
        "#model_svm_proba = svm.SVC(C=1, probability=True, random_state=2021, gamma='scale')\n",
        "#model_svm_proba.fit(train_X, train_y)\n",
        "#predicted_rain_svm_proba = model_svm_proba.predict_proba(test_y)\n",
        "#predicted_rain_svm_proba.reshape(-1,1)"
      ],
      "execution_count": null,
      "outputs": []
    },
    {
      "cell_type": "markdown",
      "metadata": {
        "id": "pKOp4Cbyvpa9"
      },
      "source": [
        "<h1 style=\"background-color:#ABFF9B;font-size:20px;color:#00033E;font-weight : bold\">Print out Classification Report for new SVM :</h1>"
      ]
    },
    {
      "cell_type": "code",
      "metadata": {
        "id": "dPLlDBz0vpa9",
        "colab": {
          "base_uri": "https://localhost:8080/"
        },
        "outputId": "952515c9-da76-41e3-eaae-c4be663a480a"
      },
      "source": [
        "## ======== YOUR CODE HERE ======== ##\n",
        "\n",
        "\n",
        "print(classification_report(test_y, predicted_rain_svm_new))\n",
        "#print(classification_report(test_y, predicted_rain_svm_linearsvc))\n",
        "\n",
        "\n",
        "\n",
        "## ================================ ##"
      ],
      "execution_count": null,
      "outputs": [
        {
          "output_type": "stream",
          "text": [
            "              precision    recall  f1-score   support\n",
            "\n",
            "           0       0.82      0.84      0.83      3300\n",
            "           1       0.80      0.78      0.79      2749\n",
            "\n",
            "    accuracy                           0.81      6049\n",
            "   macro avg       0.81      0.81      0.81      6049\n",
            "weighted avg       0.81      0.81      0.81      6049\n",
            "\n"
          ],
          "name": "stdout"
        }
      ]
    },
    {
      "cell_type": "code",
      "metadata": {
        "id": "WXznxyfKNzOE",
        "colab": {
          "base_uri": "https://localhost:8080/"
        },
        "outputId": "e2aac036-f358-4034-d70c-5d99e629e3dc"
      },
      "source": [
        "print(confusion_matrix(test_y, predicted_rain_svm_new))\n",
        "#print(confusion_matrix(test_y, predicted_rain_svm_linearsvc))\n"
      ],
      "execution_count": null,
      "outputs": [
        {
          "output_type": "stream",
          "text": [
            "[[2761  539]\n",
            " [ 611 2138]]\n"
          ],
          "name": "stdout"
        }
      ]
    },
    {
      "cell_type": "markdown",
      "metadata": {
        "id": "c71VaRy9vpa9"
      },
      "source": [
        "<h1 style=\"background-color:#ABFF9B;font-size:20px;color:#00033E;font-weight : bold\">Plot ROC curve and calculate ROC - AUC score for the new SVM :</h1> "
      ]
    },
    {
      "cell_type": "code",
      "metadata": {
        "id": "iT8NNVKkvpa9",
        "colab": {
          "base_uri": "https://localhost:8080/"
        },
        "outputId": "91cc1b32-619d-437c-bd72-5abc9773baac"
      },
      "source": [
        "## ======== YOUR CODE HERE ======== ##\n",
        "\n",
        "\n",
        "roc_auc_svm_model_new = roc_auc_score(test_y, predicted_rain_svm_new)\n",
        "print(roc_auc_svm_model_new)\n",
        "\n",
        "#roc_auc_svm_model_linearsvc = roc_auc_score(test_y, predicted_rain_svm_linearsvc)\n",
        "#print(roc_auc_svm_model_linearsvc)\n",
        "\n",
        "\n",
        "\n",
        "## ================================ ##"
      ],
      "execution_count": null,
      "outputs": [
        {
          "output_type": "stream",
          "text": [
            "0.8072020128531587\n"
          ],
          "name": "stdout"
        }
      ]
    },
    {
      "cell_type": "markdown",
      "metadata": {
        "id": "6tlhrJ8qvpa-"
      },
      "source": [
        "<h1 style=\"background-color:#ABFF9B;font-size:20px;color:#00033E;font-weight : bold\">Print Training and Testing Score along with accuracy score for the new SVM :</h1> "
      ]
    },
    {
      "cell_type": "code",
      "metadata": {
        "id": "AnydqRTQvpa-",
        "colab": {
          "base_uri": "https://localhost:8080/"
        },
        "outputId": "fcc5611a-ef4c-41a0-c2cb-8565e56c47bc"
      },
      "source": [
        "## ======== YOUR CODE HERE ======== ##\n",
        "\n",
        "print(\"Training Data New SVM Model score:\", model_svm_new.score(train_X, train_y))\n",
        "print(\"Test Data New SVM Model Score:\", model_svm_new.score(test_X, test_y))\n",
        "\n",
        "\n",
        "## ================================ ##"
      ],
      "execution_count": null,
      "outputs": [
        {
          "output_type": "stream",
          "text": [
            "Training Data New SVM Model score: 0.8343527855843941\n",
            "Test Data New SVM Model Score: 0.8098859315589354\n"
          ],
          "name": "stdout"
        }
      ]
    },
    {
      "cell_type": "code",
      "metadata": {
        "id": "epvTM-Tcvpa-",
        "colab": {
          "base_uri": "https://localhost:8080/"
        },
        "outputId": "724fd707-b447-4df8-d661-dc0526f571f2"
      },
      "source": [
        "## ======== YOUR CODE HERE ======== ##\n",
        "\n",
        "## Print out Accuracy score for the new SVM\n",
        "\n",
        "accuracy_svm_model_new = accuracy_score(test_y, predicted_rain_svm_new)\n",
        "print(\"Accuracy Score New SVM Model:\", accuracy_svm_model_new)\n",
        "\n",
        "\n",
        "\n",
        "## ================================ ##"
      ],
      "execution_count": null,
      "outputs": [
        {
          "output_type": "stream",
          "text": [
            "Accuracy Score New SVM Model: 0.8098859315589354\n"
          ],
          "name": "stdout"
        }
      ]
    },
    {
      "cell_type": "markdown",
      "metadata": {
        "id": "wwVQ1LTKvpa-"
      },
      "source": [
        "<h1 style=\"background-color:#ABFF9B;font-size:20px;color:#00033E;font-weight : bold\">Calculate Average Cross-Val score for the new SVM with 5 folds  :</h1> "
      ]
    },
    {
      "cell_type": "code",
      "metadata": {
        "id": "jC0bK5Fsvpa-",
        "colab": {
          "base_uri": "https://localhost:8080/"
        },
        "outputId": "2d8bfc4b-1ea5-45f9-d1eb-796d8357d924"
      },
      "source": [
        "## ======== YOUR CODE HERE ======== ##\n",
        "# I applied this concept here (https://towardsdatascience.com/cross-validation-430d9a5fee22)\n",
        "\n",
        "\n",
        "## Find mean for the calculated CV scores\n",
        "\n",
        "print(np.mean(cross_val_score(model_svm_new, train_X, train_y, cv = 5)))\n",
        "print(np.mean(cross_val_score(model_svm_new, X, y, cv = 5)))\n",
        "\n",
        "\n",
        "## ================================ ##"
      ],
      "execution_count": null,
      "outputs": [
        {
          "output_type": "stream",
          "text": [
            "0.8118148493122817\n",
            "0.7683091496603869\n"
          ],
          "name": "stdout"
        }
      ]
    },
    {
      "cell_type": "markdown",
      "metadata": {
        "id": "QxWC2wNLvpa-"
      },
      "source": [
        "<br>\n",
        "<h1 style = \"font-size:30px; font-family:Brush Script MT ; font-weight : bold; color : #0331A8; text-align: center; border-radius: 10px 10px;\">The End</h1>\n",
        "<br>"
      ]
    }
  ]
}